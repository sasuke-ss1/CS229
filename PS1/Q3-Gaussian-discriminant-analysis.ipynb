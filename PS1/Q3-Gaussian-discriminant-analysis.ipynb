{
 "cells": [
  {
   "cell_type": "markdown",
   "metadata": {},
   "source": [
    "http://cs229.stanford.edu/ps/ps1/ps1.pdf"
   ]
  },
  {
   "cell_type": "markdown",
   "metadata": {},
   "source": [
    "# (a)"
   ]
  },
  {
   "cell_type": "markdown",
   "metadata": {},
   "source": [
    "For Gaussian Discriminant Analysis (GDA), we wish to show that the posterior distribution of a label given an observation takes the form of logistic regression. That is, we wish to show that\n",
    "\n",
    "$$p(y\\mid x;\\phi,\\mu_{-1},\\mu_1\\Sigma) = \\frac{1}{1 + e^{-y(\\theta^T x + \\theta_0)}}$$\n",
    "\n",
    "where $\\theta\\in\\mathbb{R}^n$ and the bias term $\\theta_0$ are some appropriate functions of $\\phi,\\mu_{-1},\\mu_1\\Sigma$.\n",
    "\n",
    "It is very interesting that GDA, a generative model with the strong modeling assumption that $p(x\\mid y)$ is multivariate Gaussian, can be expressed as logistic regression, a discriminative model. Please see the cs229 class-notes-2 for details and discussion.\n",
    "\n",
    "Given \n",
    "\n",
    "$$\\begin{align*} \n",
    "p(y) &= \\begin{cases}\n",
    "  \\phi          & \\text{if} \\; y = 1 \\\\\n",
    "  1 - \\phi     & \\text{if} \\; y = -1\n",
    "\\end{cases} \\\\\n",
    "p(x\\mid y=1) &= \\frac{1}{(2\\pi)^{n/2} \\lvert \\Sigma\\rvert^{1/2}} \\mathrm{exp}\\bigg(-\\frac{1}{2}(x - \\mu_{1})^T \\Sigma^{-1} (x - \\mu_{1}) \\bigg) \\\\\n",
    "p(x\\mid y=-1) &= \\frac{1}{(2\\pi)^{n/2} \\lvert \\Sigma\\rvert^{1/2}} \\mathrm{exp}\\bigg(-\\frac{1}{2}(x - \\mu_{-1})^T \\Sigma^{-1} (x - \\mu_{-1}) \\bigg) \\\\\n",
    "\\end{align*}$$\n"
   ]
  },
  {
   "cell_type": "markdown",
   "metadata": {},
   "source": [
    "Define\n",
    "\n",
    "$$\\begin{align*}\n",
    "A &\\equiv -\\frac{1}{2}(x - \\mu_{1})^T \\Sigma^{-1} (x - \\mu_{1}) \\\\\n",
    "B &\\equiv -\\frac{1}{2}(x - \\mu_{-1})^T \\Sigma^{-1} (x - \\mu_{-1}) \\\\\n",
    "C &\\equiv \\frac{1}{(2\\pi)^{n/2} \\lvert \\Sigma\\rvert^{1/2}}\n",
    "\\end{align*}$$\n",
    "\n",
    "so that\n",
    "\n",
    "$$\\begin{align*} \n",
    "p(x\\mid y=1)  &= C e^A \\\\\n",
    "p(x\\mid y=-1) &= C e^B \\\\\n",
    "\\end{align*}$$"
   ]
  },
  {
   "cell_type": "markdown",
   "metadata": {},
   "source": [
    "Bayes formula gives\n",
    "\n",
    "$$\\begin{align*} \n",
    "p(y=1\\mid x) &= \\frac{p(x\\mid y=1) p(y=1)}{p(x\\mid y=1) p(y=1) + p(x\\mid y=-1) p(y=-1)} \\\\\n",
    "           &= \\frac{Ce^A \\phi}{Ce^A \\phi + Ce^B (1 - \\phi)} \\\\\n",
    "           &= \\frac{e^A \\phi}{e^A \\phi + e^B (1 - \\phi)} \\\\\n",
    "           &= \\frac{1}{1 + \\frac{1 - \\phi}{\\phi} e^{B - A}} \\\\\n",
    "           &= \\frac{1}{1 + e^{(B - A + \\mathrm{ln}(1 - \\phi) - \\mathrm{ln}\\phi)}} \\\\\n",
    "           &= \\frac{1}{1 + e^{- 1 (A -B + \\mathrm{ln}\\phi - \\mathrm{ln}(1 - \\phi))}} \\\\\n",
    "           &= \\frac{1}{1 + e^{- y (A -B + \\mathrm{ln}\\phi - \\mathrm{ln}(1 - \\phi))}} \\\\\n",
    "\\end{align*}$$"
   ]
  },
  {
   "cell_type": "markdown",
   "metadata": {},
   "source": [
    "And similarly for $y = -1$:\n",
    "\n",
    "$$\\begin{align*} \n",
    "p(y=-1\\mid x) &= \\frac{p(x\\mid y=-1) p(y=-1)}{p(x\\mid y=1) p(y=1) + p(x\\mid y=-1) p(y=-1)} \\\\\n",
    "           &= \\frac{Ce^B (1 - \\phi)}{Ce^A \\phi + Ce^B (1 - \\phi)} \\\\\n",
    "           &= \\frac{1}{\\frac{\\phi}{1 - \\phi} e^{A - B} + 1} \\\\\n",
    "           &= \\frac{1}{1 + e^{(A - B + \\mathrm{ln}\\phi - \\mathrm{ln}(1 - \\phi))}} \\\\\n",
    "           &= \\frac{1}{1 + e^{- y (A - B + \\mathrm{ln}\\phi - \\mathrm{ln}(1 - \\phi))}} \\\\\n",
    "\\end{align*}$$"
   ]
  },
  {
   "cell_type": "markdown",
   "metadata": {},
   "source": [
    "Therefore, in both cases,\n",
    "\n",
    "$$p(y\\mid x) = \\frac{1}{1 + e^{- y (A - B + \\mathrm{ln}\\phi - \\mathrm{ln}(1 - \\phi))}}\\tag{1}$$\n",
    "\n",
    "Note that\n",
    "\n",
    "$$\\begin{align*}\n",
    "A-B &= -\\frac{1}{2}(x - \\mu_{1})^T \\Sigma^{-1} (x - \\mu_{1}) + \\frac{1}{2}(x - \\mu_{-1})^T \\Sigma^{-1} (x - \\mu_{-1})\\\\\n",
    "                    &= -\\frac{1}{2}\\big[x^T\\Sigma^{-1}x-x^T\\Sigma^{-1}\\mu_1-\\mu_1^T\\Sigma^{-1}x+\\mu_1^T\\Sigma^{-1}\\mu_1-\\big(x^T\\Sigma^{-1}x-x^T\\Sigma^{-1}\\mu_{-1}-\\mu_{-1}^T\\Sigma^{-1}x+\\mu_{-1}^T\\Sigma^{-1}\\mu_{-1}\\big)\\big]  \\\\\n",
    "                    &= -\\frac{1}{2}\\big[-x^T\\Sigma^{-1}\\mu_1-\\mu_1^T\\Sigma^{-1}x+\\mu_1^T\\Sigma^{-1}\\mu_1-\\big(-x^T\\Sigma^{-1}\\mu_{-1}-\\mu_{-1}^T\\Sigma^{-1}x+\\mu_{-1}^T\\Sigma^{-1}\\mu_{-1}\\big)\\big]  \\\\\n",
    "                    &= -\\frac{1}{2}\\big[-(x^T\\Sigma^{-1}\\mu_1)^T-\\mu_1^T\\Sigma^{-1}x+\\mu_1^T\\Sigma^{-1}\\mu_1-\\big(-(x^T\\Sigma^{-1}\\mu_{-1})^T-\\mu_{-1}^T\\Sigma^{-1}x+\\mu_{-1}^T\\Sigma^{-1}\\mu_{-1}\\big)\\big]  \\\\\n",
    "                    &= -\\frac{1}{2}\\big[-\\mu_1^T\\Sigma^{-1}x-\\mu_1^T\\Sigma^{-1}x+\\mu_1^T\\Sigma^{-1}\\mu_1-\\big(-\\mu_{-1}^T\\Sigma^{-1}x-\\mu_{-1}^T\\Sigma^{-1}x+\\mu_{-1}^T\\Sigma^{-1}\\mu_{-1}\\big)\\big]  \\\\\n",
    "                    &= -\\frac{1}{2}\\big[-2\\mu_1^T\\Sigma^{-1}x+\\mu_1^T\\Sigma^{-1}\\mu_1-\\big(-2\\mu_{-1}^T\\Sigma^{-1}x+\\mu_{-1}^T\\Sigma^{-1}\\mu_{-1}\\big)\\big]  \\\\\n",
    "                    &= -\\frac{1}{2}\\big[-2\\mu_1^T\\Sigma^{-1}x+\\mu_1^T\\Sigma^{-1}\\mu_1+2\\mu_{-1}^T\\Sigma^{-1}x-\\mu_{-1}^T\\Sigma^{-1}\\mu_{-1}\\big]  \\\\\n",
    "                    &= -\\frac{1}{2}\\big[2\\mu_{-1}^T\\Sigma^{-1}x-2\\mu_1^T\\Sigma^{-1}x+\\mu_1^T\\Sigma^{-1}\\mu_1-\\mu_{-1}^T\\Sigma^{-1}\\mu_{-1}\\big]  \\\\\n",
    "                    &= -\\frac{1}{2}\\big[2(\\mu_{-1}-\\mu_1)^T\\Sigma^{-1}x+\\mu_1^T\\Sigma^{-1}\\mu_1-\\mu_{-1}^T\\Sigma^{-1}\\mu_{-1}\\big]  \\\\\n",
    "                    &= (\\mu_1-\\mu_{-1})^T\\Sigma^{-1}x+\\frac{1}{2}\\mu_{-1}^T\\Sigma^{-1}\\mu_{-1}-\\frac{1}{2}\\mu_1^T\\Sigma^{-1}\\mu_1  \\\\\n",
    "\\end{align*}$$\n",
    "\n",
    "Define\n",
    "\n",
    "$$\\begin{align*}\n",
    "\\theta &\\equiv \\Sigma^{-1}(\\mu_1-\\mu_{-1}) \\\\\n",
    "\\theta_0 &\\equiv \\frac{1}{2}\\mu_{-1}^T\\Sigma^{-1}\\mu_{-1}-\\frac{1}{2}\\mu_1^T\\Sigma^{-1}\\mu_1 - \\mathrm{ln}\\Big(\\frac{1 - \\phi}{\\phi}\\Big) \\\\\n",
    "\\end{align*}$$\n",
    "\n",
    "So \n",
    "\n",
    "$$\\begin{align*}\n",
    "\\theta^Tx + \\theta_0 &= \\big(\\Sigma^{-1}(\\mu_1-\\mu_{-1})\\big)^Tx + \\frac{1}{2}\\mu_{-1}^T\\Sigma^{-1}\\mu_{-1}-\\frac{1}{2}\\mu_1^T\\Sigma^{-1}\\mu_1 - \\mathrm{ln}\\Big(\\frac{1 - \\phi}{\\phi}\\Big) \\\\\n",
    "                    &= (\\mu_1-\\mu_{-1})^T\\Sigma^{-1}x + \\frac{1}{2}\\mu_{-1}^T\\Sigma^{-1}\\mu_{-1}-\\frac{1}{2}\\mu_1^T\\Sigma^{-1}\\mu_1 + \\mathrm{ln}\\Big(\\frac{\\phi}{1 - \\phi}\\Big) \\\\\n",
    "                    &= A - B + \\mathrm{ln}\\phi - \\mathrm{ln}(1 - \\phi)  \\\\\n",
    "\\end{align*}$$\n",
    "\n",
    "And (1) becomes\n",
    "\n",
    "$$p(y\\mid x) = \\frac{1}{1 + e^{- y (A - B + \\mathrm{ln}\\phi - \\mathrm{ln}(1 - \\phi))}} = \\frac{1}{1 + e^{-y(\\theta^T x + \\theta_0)}}$$\n",
    "\n",
    "which is in the form of the logistic function."
   ]
  },
  {
   "cell_type": "markdown",
   "metadata": {},
   "source": [
    "# (b)\n",
    "\n",
    "We will handle this in part (c)"
   ]
  },
  {
   "cell_type": "markdown",
   "metadata": {},
   "source": [
    "# (c)"
   ]
  },
  {
   "cell_type": "markdown",
   "metadata": {},
   "source": [
    "First note that\n",
    "\n",
    "$$\\begin{align*} \n",
    "p(y) &= \\begin{cases}\n",
    "  \\phi          & \\text{if} \\; y = 1 \\\\\n",
    "  1 - \\phi     & \\text{if} \\; y = -1\n",
    "\\end{cases} \\\\\\\\\n",
    "   &=\\phi^{1\\{y=1\\}}(1-\\phi)^{1\\{y=-1\\}}\n",
    "\\end{align*}$$\n",
    "\n",
    "And the $\\ln$ of this is\n",
    "\n",
    "$$\\begin{align*} \n",
    "\\ln(p(y))&=\\ln(\\phi^{1\\{y=1\\}}(1-\\phi)^{1\\{y=-1\\}})\\\\\n",
    "    &=\\ln(\\phi^{1\\{y=1\\}}) + \\ln((1-\\phi)^{1\\{y=-1\\}})\\\\\n",
    "    &={1\\{y=1\\}}\\ln(\\phi) + {1\\{y=-1\\}}\\ln((1-\\phi))\n",
    "\\end{align*}$$\n",
    "\n",
    "Hence the log-likelihood is\n",
    "\n",
    "$$\\begin{align*} \n",
    "\\ell(\\phi,\\mu_{-1},\\mu_1,\\Sigma) &= \\mathrm{ln}\\prod_{i=1}^mp(x^{(i)},y^{(i)};\\phi,\\mu_{-1},\\mu_1\\Sigma) \\\\\n",
    "     &= \\mathrm{ln}\\prod_{i=1}^mp(x^{(i)}\\mid y^{(i)};\\phi,\\mu_{-1},\\mu_1,\\Sigma) p(y^{(i)};\\phi)\\\\\n",
    "     &= \\sum_{i=1}^m\\mathrm{ln}p(x^{(i)}\\mid y^{(i)};\\phi,\\mu_{-1},\\mu_1,\\Sigma)+ \\sum_{i=1}^m\\mathrm{ln}p(y^{(i)};\\phi)\\\\\n",
    "     &\\approxeq \\sum_{i=1}^m\\big[\\frac{1}{2}\\mathrm{ln}\\frac{1}{\\lvert\\Sigma\\rvert}-\\frac{1}{2}(x^{(i)}-\\mu_{y^{(i)}})^T\\Sigma^{-1}(x^{(i)}-\\mu_{y^{(i)}})+{1\\{y^{(i)}=1\\}}\\ln(\\phi) + {1\\{y^{(i)}=-1\\}}\\ln(1-\\phi)\\big]\\tag{2}\n",
    "\\end{align*}$$\n",
    "\n",
    "In the last quasi-equality, we have discarded the term $\\ln\\big(\\frac{1}{(2\\pi)^{n/2}}\\big)$ since this is irrelevant to determining maxima."
   ]
  },
  {
   "cell_type": "markdown",
   "metadata": {},
   "source": [
    "To maximize the log-likelihood in $\\phi$, let's compute the partial derivative of (2) with respect to $\\phi$ and set it equal to zero:\n",
    "\n",
    "$$\\begin{align*} \n",
    "0=\\frac{\\partial\\ell}{\\partial\\phi} &= \\sum_{i=1}^m{1\\{y^{(i)}=1\\}}\\frac1{\\phi} - \\sum_{i=1}^m{1\\{y^{(i)}=-1\\}}\\frac1{1-\\phi}\\\\\n",
    "\\end{align*}$$\n",
    "\n",
    "Hence\n",
    "\n",
    "$$\\begin{align*} \n",
    "\\sum_{i=1}^m{1\\{y^{(i)}=-1\\}}\\frac1{1-\\phi} = \\sum_{i=1}^m{1\\{y^{(i)}=1\\}}\\frac1{\\phi}\\\\\n",
    "\\end{align*}$$\n",
    "\n",
    "Or\n",
    "\n",
    "$$\\begin{align*} \n",
    "\\frac1{1-\\phi}\\sum_{i=1}^m{1\\{y^{(i)}=-1\\}} = \\frac1{\\phi}\\sum_{i=1}^m{1\\{y^{(i)}=1\\}}\\\\\n",
    "\\end{align*}$$\n",
    "\n",
    "Multiplying both sides by $\\phi(1-\\phi)$, we get\n",
    "\n",
    "$$\\begin{align*} \n",
    "\\phi\\sum_{i=1}^m{1\\{y^{(i)}=-1\\}} &= (1-\\phi)\\sum_{i=1}^m{1\\{y^{(i)}=1\\}}\\\\\n",
    "    &= \\sum_{i=1}^m{1\\{y^{(i)}=1\\}} - \\phi\\sum_{i=1}^m{1\\{y^{(i)}=1\\}}\n",
    "\\end{align*}$$\n",
    "\n",
    "Hence\n",
    "\n",
    "$$\\begin{align*} \n",
    "\\sum_{i=1}^m{1\\{y^{(i)}=1\\}} &= \\phi\\sum_{i=1}^m{1\\{y^{(i)}=-1\\}} + \\phi\\sum_{i=1}^m{1\\{y^{(i)}=1\\}}\\\\\n",
    "    &= \\phi\\sum_{i=1}^m\\big[1\\{y^{(i)}=-1\\} + 1\\{y^{(i)}=1\\}\\big]\\\\\n",
    "    &= \\phi\\sum_{i=1}^m1\\\\\n",
    "    &= \\phi m\n",
    "\\end{align*}$$\n",
    "\n",
    "Hence\n",
    "\n",
    "$$\\begin{align*} \n",
    "\\phi = \\frac1m\\sum_{i=1}^m{1\\{y^{(i)}=1\\}}\n",
    "\\end{align*}$$"
   ]
  },
  {
   "cell_type": "markdown",
   "metadata": {
    "collapsed": true
   },
   "source": [
    "\n",
    "Now let's compute the gradient of (2) with respect to $\\mu_{-1}$:\n",
    "\n",
    "$$\\begin{align*} \n",
    "\\nabla_{\\mu_{-1}}\\ell &= -\\frac{1}{2}\\sum_{i=1}^m\\nabla_{\\mu_{-1}}(x^{(i)}-\\mu_{y^{(i)}})^T\\Sigma^{-1}(x^{(i)}-\\mu_{y^{(i)}})\\\\ \n",
    "    &= -\\frac{1}{2}\\sum_{i:y^{(i)}=-1}\\nabla_{\\mu_{-1}}(x^{(i)}-\\mu_{-1})^T\\Sigma^{-1}(x^{(i)}-\\mu_{-1})\\\\\n",
    "    &= -\\frac{1}{2}\\sum_{i:y^{(i)}=-1}\\nabla_{\\mu_{-1}}\\big[x^{(i)^T}\\Sigma^{-1}x^{(i)}-x^{(i)^T}\\Sigma^{-1}\\mu_{-1}-\\mu_{-1}^T\\Sigma^{-1}x^{(i)}+\\mu_{-1}^T\\Sigma^{-1}\\mu_{-1}\\big]\\\\\n",
    "    &= -\\frac{1}{2}\\sum_{i:y^{(i)}=-1}\\nabla_{\\mu_{-1}}\\big[-x^{(i)^T}\\Sigma^{-1}\\mu_{-1}-\\mu_{-1}^T\\Sigma^{-1}x^{(i)}+\\mu_{-1}^T\\Sigma^{-1}\\mu_{-1}\\big]\\\\\n",
    "    &= -\\frac{1}{2}\\sum_{i:y^{(i)}=-1}\\nabla_{\\mu_{-1}}\\big[-(x^{(i)^T}\\Sigma^{-1}\\mu_{-1})^T-\\mu_{-1}^T\\Sigma^{-1}x^{(i)}+\\mu_{-1}^T\\Sigma^{-1}\\mu_{-1}\\big]\\\\\n",
    "    &= -\\frac{1}{2}\\sum_{i:y^{(i)}=-1}\\nabla_{\\mu_{-1}}\\big[-\\mu_{-1}^T\\Sigma^{-1}x^{(i)}-\\mu_{-1}^T\\Sigma^{-1}x^{(i)}+\\mu_{-1}^T\\Sigma^{-1}\\mu_{-1}\\big]\\\\\n",
    "    &= -\\frac{1}{2}\\sum_{i:y^{(i)}=-1}\\nabla_{\\mu_{-1}}\\big[-2\\mu_{-1}^T\\Sigma^{-1}x^{(i)}+\\mu_{-1}^T\\Sigma^{-1}\\mu_{-1}\\big]\\\\\n",
    "    &= -\\frac{1}{2}\\sum_{i:y^{(i)}=-1}\\nabla_{\\mu_{-1}}\\big[\\mu_{-1}^T\\Sigma^{-1}\\mu_{-1}-2\\mu_{-1}^T\\Sigma^{-1}x^{(i)}\\big]\\\\\n",
    "    &= -\\frac{1}{2}\\sum_{i:y^{(i)}=-1}\\nabla_{\\mu_{-1}}tr\\big[\\mu_{-1}^T\\Sigma^{-1}\\mu_{-1}-2\\mu_{-1}^T\\Sigma^{-1}x^{(i)}\\big]\\\\\n",
    "    &= -\\frac{1}{2}\\sum_{i:y^{(i)}=-1}\\big[\\nabla_{\\mu_{-1}}tr(\\mu_{-1}^T\\Sigma^{-1}\\mu_{-1})-2\\nabla_{\\mu_{-1}}tr(\\mu_{-1}^T\\Sigma^{-1}x^{(i)})\\big]\\tag{3}\n",
    "\\end{align*}$$\n",
    "\n",
    "The fifth equality follows because $r^T=r$ for all $r\\in\\mathbb{R}$. The next-to-last equality follows because $tr(r)=r$ for all $r\\in\\mathbb{R}$. The last equality follows because the trace and gradient operators are both linear.\n",
    "\n",
    "Note that\n",
    "\n",
    "$$\\begin{align*} \n",
    "\\nabla_{\\mu_{-1}}tr(\\mu_{-1}^T\\Sigma^{-1}\\mu_{-1}) &= \\nabla_{(\\mu_{-1}^T)^T}tr(\\mu_{-1}^T\\Sigma^{-1}\\mu_{-1}) \\\\\n",
    "    &= \\big[\\nabla_{\\mu_{-1}^T}tr(\\mu_{-1}^T\\Sigma^{-1}\\mu_{-1}I)\\big]^T \\\\\n",
    "    &= \\big[I\\mu_{-1}^T\\Sigma^{-1}+I\\mu_{-1}^T\\Sigma^{-T}\\big]^T \\\\\n",
    "    &= \\big[\\mu_{-1}^T\\Sigma^{-1}+\\mu_{-1}^T\\Sigma^{-T}\\big]^T \\\\\n",
    "    &= \\big[\\mu_{-1}^T\\Sigma^{-T}+\\mu_{-1}^T\\Sigma^{-T}\\big]^T \\\\\n",
    "    &= 2\\big[\\mu_{-1}^T\\Sigma^{-T}\\big]^T \\\\\n",
    "    &= 2\\Sigma^{-1}\\mu_{-1} \\\\\n",
    "\\end{align*}$$\n",
    "\n",
    "The second equality follows from cs229-notes1, p.9, eq.2 ($I=1\\in\\mathbb{R}$) and the third equality follows from eq.3.\n",
    "\n",
    "Also note that\n",
    "\n",
    "$$\\begin{align*} \n",
    "\\nabla_{\\mu_{-1}}tr(\\mu_{-1}^T\\Sigma^{-1}x^{(i)}) &= \\nabla_{(\\mu_{-1}^T)^T}tr(\\mu_{-1}^T\\Sigma^{-1}x^{(i)}) \\\\\n",
    "    &= \\big[\\nabla_{\\mu_{-1}^T}tr(\\mu_{-1}^T\\Sigma^{-1}x^{(i)})\\big]^T \\\\\n",
    "    &= \\big[(\\Sigma^{-1}x^{(i)})^T\\big]^T \\\\\n",
    "    &= \\Sigma^{-1}x^{(i)} \\\\\n",
    "\\end{align*}$$\n",
    "\n",
    "Hence (3) becomes\n",
    "\n",
    "$$\\begin{align*} \n",
    "0 = \\nabla_{\\mu_{-1}}\\ell &= -\\frac{1}{2}\\sum_{i:y^{(i)}=-1}[2\\Sigma^{-1}\\mu_{-1}-2\\Sigma^{-1}x^{(i)}] \\\\\n",
    "    &= \\sum_{i:y^{(i)}=-1}[\\Sigma^{-1}x^{(i)}-\\Sigma^{-1}\\mu_{-1}] \\\\\n",
    "    &= \\sum_{i=1}^m1\\{y^{(i)}=-1\\}[\\Sigma^{-1}x^{(i)}-\\Sigma^{-1}\\mu_{-1}] \\\\\n",
    "    &= \\Sigma^{-1}\\sum_{i=1}^m1\\{y^{(i)}=-1\\}(x^{(i)}-\\mu_{-1}) \\\\\n",
    "\\end{align*}$$\n",
    "\n",
    "Since $\\Sigma$ is invertible, then $\\Sigma^{-1}$ is invertible and the first equality follows:\n",
    "\n",
    "$$\\begin{align*} \n",
    "0 = \\sum_{i=1}^m1\\{y^{(i)}=-1\\}(x^{(i)}-\\mu_{-1}) = \\sum_{i=1}^m1\\{y^{(i)}=-1\\}x^{(i)}-\\sum_{i=1}^m1\\{y^{(i)}=-1\\}\\mu_{-1} \\\\\n",
    "\\end{align*}$$\n",
    "\n",
    "Or\n",
    "\n",
    "$$\\begin{align*} \n",
    "\\mu_{-1}\\sum_{i=1}^m1\\{y^{(i)}=-1\\} = \\sum_{i=1}^m1\\{y^{(i)}=-1\\}\\mu_{-1} = \\sum_{i=1}^m1\\{y^{(i)}=-1\\}x^{(i)}\\\\\n",
    "\\end{align*}$$\n",
    "\n",
    "Or\n",
    "\n",
    "$$\\begin{align*} \n",
    "\\mu_{-1} = \\frac{\\sum_{i=1}^m1\\{y^{(i)}=-1\\}x^{(i)}}{\\sum_{i=1}^m1\\{y^{(i)}=-1\\}}\\\\\n",
    "\\end{align*}$$\n",
    "\n",
    "The computation for $\\mu_1$ is similar."
   ]
  },
  {
   "cell_type": "markdown",
   "metadata": {
    "collapsed": true
   },
   "source": [
    "To find the maximum in $\\Sigma$, we will find the maximum in $S\\equiv\\Sigma^{-1}$. For intuition, define $f(x)=-(x-2)^2$ for $x\\in\\mathbb{R}$. We know that the maximum of $f(x)$ is at $x_0=2$. But if we find the maximum of $f\\big(\\frac{1}{\\alpha}\\big)$ over all $\\alpha\\in\\mathbb{R}$, then the maximum is at $\\alpha_0=\\frac{1}{2}=\\frac{1}{x_0}=x_0^{-1}$.\n",
    "\n",
    "Recall (from lin-alg-review-notes) that $\\lvert S\\rvert=\\lvert \\Sigma^{-1}\\rvert=\\frac{1}{\\lvert\\Sigma\\rvert}$. Then\n",
    "\n",
    "$$\\begin{align*} \n",
    "\\nabla_S\\ell &= \\sum_{i=1}^m\\nabla_S\\big[\\frac{1}{2}\\mathrm{ln}\\frac{1}{\\lvert\\Sigma\\rvert}-\\frac{1}{2}(x^{(i)}-\\mu_{y^{(i)}})^T\\Sigma^{-1}(x^{(i)}-\\mu_{y^{(i)}})\\big] \\\\\n",
    "    &= \\sum_{i=1}^m\\nabla_S\\big[\\frac{1}{2}\\mathrm{ln}\\lvert S\\rvert-\\frac{1}{2}(x^{(i)}-\\mu_{y^{(i)}})^TS(x^{(i)}-\\mu_{y^{(i)}})\\big] \\\\\n",
    "    &= \\sum_{i=1}^m\\nabla_S\\big[\\frac{1}{2}\\mathrm{ln}\\lvert S\\rvert-\\frac{1}{2}b_i^TSb_i\\big] \\\\\n",
    "    &= \\sum_{i=1}^m\\big[\\frac{1}{2\\lvert S\\rvert}\\nabla_S\\lvert S\\rvert-\\frac{1}{2}\\nabla_Sb_i^TSb_i\\big] \\tag{4} \\\\\n",
    "\\end{align*}$$\n",
    "\n",
    "where we have defined $b_i\\equiv x^{(i)}-\\mu_{y^{(i)}}$. Then\n",
    "\n",
    "$$\\begin{align*} \n",
    "\\nabla_S\\lvert S\\rvert=\\lvert S\\rvert(S^{-1})^T=\\lvert S\\rvert\\Sigma^T=\\lvert S\\rvert\\Sigma\\\\\n",
    "\\end{align*}$$\n",
    "\n",
    "The first equality follows from class-notes-1, p.9, eq.4 and the last equality follows because $\\Sigma$ is symmetric.\n",
    "\n",
    "Also note that\n",
    "\n",
    "$$\\begin{align*} \n",
    "\\nabla_Sb_i^TSb_i=\\nabla_Str(b_i^TSb_i)=\\nabla_Str(Sb_ib_i^T)=(b_ib_i^T)^T=b_ib_i^T=(x^{(i)}-\\mu_{y^{(i)}})(x^{(i)}-\\mu_{y^{(i)}})^T\n",
    "\\end{align*}$$\n",
    "\n",
    "The first equality follows because $b_i^TSb_i\\in\\mathbb{R}$. The second equality follows because $b_i^TSb_i$ is a square matrix that is the product of a $1\\times n$ matrix ($b_i^T$) and a $n\\times1$ matrix ($Sb_i$). The trace operator commutes in this case. The third equality follows from class-notes-1, p.9, eq.1.\n",
    "\n",
    "Setting the gradient equal to zero, (4) becomes\n",
    "\n",
    "$$\\begin{align*} \n",
    "0=\\nabla_S\\ell &= \\sum_{i=1}^m\\big[\\frac{1}{2\\lvert S\\rvert}\\nabla_S\\lvert S\\rvert-\\frac{1}{2}\\nabla_Sb_i^TSb_i\\big] \\\\\n",
    "    &= \\sum_{i=1}^m\\big[\\frac{1}{2\\lvert S\\rvert}\\lvert S\\rvert\\Sigma-\\frac{1}{2}(x^{(i)}-\\mu_{y^{(i)}})(x^{(i)}-\\mu_{y^{(i)}})^T\\big]\\\\\n",
    "    &= \\sum_{i=1}^m\\big[\\frac{1}{2}\\Sigma-\\frac{1}{2}(x^{(i)}-\\mu_{y^{(i)}})(x^{(i)}-\\mu_{y^{(i)}})^T\\big]\n",
    "\\end{align*}$$\n",
    "\n",
    "Multiplying through by $2$, we get\n",
    "\n",
    "$$\\begin{align*} \n",
    "0 &= \\sum_{i=1}^m\\big[\\Sigma-(x^{(i)}-\\mu_{y^{(i)}})(x^{(i)}-\\mu_{y^{(i)}})^T\\big] \\\\\n",
    "     &= \\sum_{i=1}^m\\Sigma-\\sum_{i=1}^m\\big[(x^{(i)}-\\mu_{y^{(i)}})(x^{(i)}-\\mu_{y^{(i)}})^T\\big] \\\\\n",
    "     &= m\\Sigma-\\sum_{i=1}^m(x^{(i)}-\\mu_{y^{(i)}})(x^{(i)}-\\mu_{y^{(i)}})^T\n",
    "\\end{align*}$$\n",
    "\n",
    "or\n",
    "\n",
    "$$\\begin{align*} \n",
    "\\Sigma=\\frac{1}{m}\\sum_{i=1}^m(x^{(i)}-\\mu_{y^{(i)}})(x^{(i)}-\\mu_{y^{(i)}})^T\n",
    "\\end{align*}$$"
   ]
  },
  {
   "cell_type": "markdown",
   "metadata": {},
   "source": [
    "Although not required by the problem, I found it very helpful to plot the decision boundary for this problem using the data from problem 1:"
   ]
  },
  {
   "cell_type": "code",
   "execution_count": 1,
   "metadata": {
    "collapsed": true
   },
   "outputs": [],
   "source": [
    "import numpy as np\n",
    "import pandas as pd\n",
    "import matplotlib.pyplot as plt\n",
    "\n",
    "%matplotlib inline"
   ]
  },
  {
   "cell_type": "code",
   "execution_count": 2,
   "metadata": {},
   "outputs": [
    {
     "name": "stdout",
     "output_type": "stream",
     "text": [
      "type(df_X)=<class 'pandas.core.frame.DataFrame'> and df_X.shape=(99, 2)\n",
      "And the head:\n"
     ]
    },
    {
     "data": {
      "text/html": [
       "<div>\n",
       "<style>\n",
       "    .dataframe thead tr:only-child th {\n",
       "        text-align: right;\n",
       "    }\n",
       "\n",
       "    .dataframe thead th {\n",
       "        text-align: left;\n",
       "    }\n",
       "\n",
       "    .dataframe tbody tr th {\n",
       "        vertical-align: top;\n",
       "    }\n",
       "</style>\n",
       "<table border=\"1\" class=\"dataframe\">\n",
       "  <thead>\n",
       "    <tr style=\"text-align: right;\">\n",
       "      <th></th>\n",
       "      <th>0</th>\n",
       "      <th>1</th>\n",
       "    </tr>\n",
       "  </thead>\n",
       "  <tbody>\n",
       "    <tr>\n",
       "      <th>0</th>\n",
       "      <td>1.343250</td>\n",
       "      <td>-1.331148</td>\n",
       "    </tr>\n",
       "    <tr>\n",
       "      <th>1</th>\n",
       "      <td>1.820553</td>\n",
       "      <td>-0.634668</td>\n",
       "    </tr>\n",
       "    <tr>\n",
       "      <th>2</th>\n",
       "      <td>0.986321</td>\n",
       "      <td>-1.888576</td>\n",
       "    </tr>\n",
       "  </tbody>\n",
       "</table>\n",
       "</div>"
      ],
      "text/plain": [
       "          0         1\n",
       "0  1.343250 -1.331148\n",
       "1  1.820553 -0.634668\n",
       "2  0.986321 -1.888576"
      ]
     },
     "execution_count": 2,
     "metadata": {},
     "output_type": "execute_result"
    }
   ],
   "source": [
    "df_X = pd.read_csv('./logistic_x.txt', sep='\\ +', header=None, engine='python')\n",
    "print(\"type(df_X)={} and df_X.shape={}\".format(type(df_X),df_X.shape))\n",
    "print(\"And the head:\")\n",
    "df_X[:3]"
   ]
  },
  {
   "cell_type": "code",
   "execution_count": 3,
   "metadata": {},
   "outputs": [
    {
     "name": "stdout",
     "output_type": "stream",
     "text": [
      "type(df_y)=<class 'pandas.core.frame.DataFrame'> and df_y.shape=(99, 1)\n",
      "And the head:\n"
     ]
    },
    {
     "data": {
      "text/html": [
       "<div>\n",
       "<style>\n",
       "    .dataframe thead tr:only-child th {\n",
       "        text-align: right;\n",
       "    }\n",
       "\n",
       "    .dataframe thead th {\n",
       "        text-align: left;\n",
       "    }\n",
       "\n",
       "    .dataframe tbody tr th {\n",
       "        vertical-align: top;\n",
       "    }\n",
       "</style>\n",
       "<table border=\"1\" class=\"dataframe\">\n",
       "  <thead>\n",
       "    <tr style=\"text-align: right;\">\n",
       "      <th></th>\n",
       "      <th>0</th>\n",
       "    </tr>\n",
       "  </thead>\n",
       "  <tbody>\n",
       "    <tr>\n",
       "      <th>0</th>\n",
       "      <td>-1</td>\n",
       "    </tr>\n",
       "    <tr>\n",
       "      <th>1</th>\n",
       "      <td>-1</td>\n",
       "    </tr>\n",
       "    <tr>\n",
       "      <th>2</th>\n",
       "      <td>-1</td>\n",
       "    </tr>\n",
       "  </tbody>\n",
       "</table>\n",
       "</div>"
      ],
      "text/plain": [
       "   0\n",
       "0 -1\n",
       "1 -1\n",
       "2 -1"
      ]
     },
     "execution_count": 3,
     "metadata": {},
     "output_type": "execute_result"
    }
   ],
   "source": [
    "df_y = pd.read_csv('./logistic_y.txt', sep='\\ +', header=None, engine='python')\n",
    "df_y = df_y.astype(int)\n",
    "print(\"type(df_y)={} and df_y.shape={}\".format(type(df_y),df_y.shape))\n",
    "print(\"And the head:\")\n",
    "df_y[:3]"
   ]
  },
  {
   "cell_type": "code",
   "execution_count": 4,
   "metadata": {},
   "outputs": [
    {
     "data": {
      "text/plain": [
       "<matplotlib.text.Text at 0x115ef00f0>"
      ]
     },
     "execution_count": 4,
     "metadata": {},
     "output_type": "execute_result"
    },
    {
     "data": {
      "image/png": "[encoded data removed]",
      "text/plain": [
       "<matplotlib.figure.Figure at 0x115eb9630>"
      ]
     },
     "metadata": {},
     "output_type": "display_data"
    }
   ],
   "source": [
    "# Let's append the labels to the data\n",
    "df_X['label'] = df_y[0].values\n",
    "# And let's take a look at the two data points, called \"0\" and \"1\", for each observation, colored coded by label:\n",
    "ax = plt.axes()\n",
    "df_X.query('label == -1').plot.scatter(x=0, y=1, ax=ax, color='blue')\n",
    "df_X.query('label == 1').plot.scatter(x=0, y=1, ax=ax, color='red')\n",
    "plt.xlabel('x_1')\n",
    "plt.ylabel('x_2')"
   ]
  },
  {
   "cell_type": "code",
   "execution_count": 5,
   "metadata": {},
   "outputs": [
    {
     "name": "stdout",
     "output_type": "stream",
     "text": [
      "type(X)=<class 'numpy.ndarray'>  X.shape=(99, 2)\n"
     ]
    }
   ],
   "source": [
    "# convert X's to numpy array\n",
    "X = df_X[[0, 1]].values\n",
    "print(\"type(X)={}  X.shape={}\".format(type(X),X.shape))"
   ]
  },
  {
   "cell_type": "code",
   "execution_count": 6,
   "metadata": {},
   "outputs": [
    {
     "name": "stdout",
     "output_type": "stream",
     "text": [
      "type(y)=<class 'numpy.ndarray'>  y.shape=(99,)  number of ones=49  number of negative ones=-50\n"
     ]
    }
   ],
   "source": [
    "# convert y's to numpy array\n",
    "y = df_y.values.flatten()\n",
    "cntones=sum([y[i] if y[i]==1 else 0 for i in range(len(y))])\n",
    "cntnegones=sum([y[i] if y[i]==-1 else 0 for i in range(len(y))])\n",
    "print(\"type(y)={}  y.shape={}  number of ones={}  number of negative ones={}\"\n",
    "      .format(type(y),y.shape,cntones, cntnegones))"
   ]
  },
  {
   "cell_type": "markdown",
   "metadata": {},
   "source": [
    "Recall our estimates for $\\mu_{-1}$ and $\\mu_1$:\n",
    "\n",
    "$$\\begin{align*} \n",
    "\\mu_{-1} = \\frac{\\sum_{i=1}^m1\\{y^{(i)}=-1\\}x^{(i)}}{\\sum_{i=1}^m1\\{y^{(i)}=-1\\}}\\\\\n",
    "\\end{align*}$$\n",
    "\n",
    "$$\\begin{align*} \n",
    "\\mu_{1} = \\frac{\\sum_{i=1}^m1\\{y^{(i)}=1\\}x^{(i)}}{\\sum_{i=1}^m1\\{y^{(i)}=1\\}}\\\\\n",
    "\\end{align*}$$"
   ]
  },
  {
   "cell_type": "code",
   "execution_count": 7,
   "metadata": {},
   "outputs": [
    {
     "name": "stdout",
     "output_type": "stream",
     "text": [
      "num_features=2\n",
      "mun1n=[ 146.53407208  -72.23823447]  mun1d=50\n",
      "mun1=[[ 2.93068144]\n",
      " [-1.44476469]]\n",
      "mu1n=[ 241.87216715   37.61822942]  mu1d=49\n",
      "mu1=[[ 4.93616668]\n",
      " [ 0.76771897]]\n"
     ]
    }
   ],
   "source": [
    "# let's compute the mean vectors\n",
    "num_features=X.shape[1]\n",
    "print(\"num_features={}\".format(num_features))\n",
    "\n",
    "mun1n=np.sum(X[y==-1],axis=0)\n",
    "mun1d=np.sum([y==-1])\n",
    "mun1=(mun1n/mun1d).reshape(num_features,1) # reshape to column vector (rather than array)\n",
    "print(\"mun1n={}  mun1d={}\\nmun1={}\".format(mun1n,mun1d,mun1))\n",
    "\n",
    "mu1n=np.sum(X[y==1],axis=0)\n",
    "mu1d=np.sum([y==1])\n",
    "mu1=(mu1n/mu1d).reshape(num_features,1)\n",
    "print(\"mu1n={}  mu1d={}\\nmu1={}\".format(mu1n,mu1d,mu1))"
   ]
  },
  {
   "cell_type": "markdown",
   "metadata": {},
   "source": [
    "Recall our estimate for $\\Sigma$:\n",
    "\n",
    "$$\\begin{align*} \n",
    "\\Sigma=\\frac{1}{m}\\sum_{i=1}^m(x^{(i)}-\\mu_{y^{(i)}})(x^{(i)}-\\mu_{y^{(i)}})^T\n",
    "\\end{align*}$$"
   ]
  },
  {
   "cell_type": "code",
   "execution_count": 8,
   "metadata": {},
   "outputs": [
    {
     "name": "stdout",
     "output_type": "stream",
     "text": [
      "m=99  Sigma.shape=(2, 2)\n",
      "Sigma=[[ 2.68174521 -0.46404053]\n",
      " [-0.46404053  1.88367821]]\n"
     ]
    }
   ],
   "source": [
    "# let's compute Sigma\n",
    "m=X.shape[0]\n",
    "Sigma=np.zeros((num_features,num_features))\n",
    "for i in range(m):\n",
    "    # reshape to column vector so that .dot is 2x1 dot 1x2 = 2x2\n",
    "    # rather than 2, dot 2, = 1\n",
    "    xi = X[i,:].reshape(num_features,1)\n",
    "    muyi = mu1 if y[i]==1 else mun1 # this is already a column vector\n",
    "    # uncomment if you want to see some rows\n",
    "#    if np.mod(i,11)==0:\n",
    "#        print(\"i={}  xi={}  muyi={}\".format(i,xi,muyi))\n",
    "    Sigma += (xi-muyi).dot((xi-muyi).T)\n",
    "Sigma = 1/m * Sigma\n",
    "print(\"m={}  Sigma.shape={}\".format(m,Sigma.shape))\n",
    "print(\"Sigma={}\".format(Sigma))"
   ]
  },
  {
   "cell_type": "markdown",
   "metadata": {},
   "source": [
    "Recall our estimate for $\\phi$:\n",
    "\n",
    "$$\\begin{align*} \n",
    "\\phi = \\frac1m\\sum_{i=1}^m{1\\{y^{(i)}=1\\}}\n",
    "\\end{align*}$$"
   ]
  },
  {
   "cell_type": "code",
   "execution_count": 9,
   "metadata": {},
   "outputs": [
    {
     "name": "stdout",
     "output_type": "stream",
     "text": [
      "phi=0.494949494949495\n"
     ]
    }
   ],
   "source": [
    "phi=mu1d/m\n",
    "print(\"phi={}\".format(phi))"
   ]
  },
  {
   "cell_type": "markdown",
   "metadata": {},
   "source": [
    "Recall our definitions for $\\theta$:\n",
    "\n",
    "$$\\begin{align*}\n",
    "\\theta &\\equiv \\Sigma^{-1}(\\mu_1-\\mu_{-1}) \\\\\n",
    "\\theta_0 &\\equiv \\frac{1}{2}\\mu_{-1}^T\\Sigma^{-1}\\mu_{-1}-\\frac{1}{2}\\mu_1^T\\Sigma^{-1}\\mu_1 - \\mathrm{ln}\\Big(\\frac{1 - \\phi}{\\phi}\\Big) \\\\\n",
    "\\end{align*}$$"
   ]
  },
  {
   "cell_type": "code",
   "execution_count": 10,
   "metadata": {},
   "outputs": [
    {
     "name": "stdout",
     "output_type": "stream",
     "text": [
      "theta12=[ 0.99341623  1.41928119]\n",
      "theta0=-3.4472708878475564\n"
     ]
    }
   ],
   "source": [
    "S=np.linalg.inv(Sigma)\n",
    "theta12=S.dot(mu1-mun1).flatten()\n",
    "w1=mun1.T.dot(S.dot(mun1))\n",
    "w2=mu1.T.dot(S.dot(mu1))\n",
    "theta0=1/2*(w1-w2)[0,0]-np.log((1-phi)/phi)\n",
    "print(\"theta12={}\".format(theta12))\n",
    "print(\"theta0={}\".format(theta0))"
   ]
  },
  {
   "cell_type": "code",
   "execution_count": 11,
   "metadata": {},
   "outputs": [
    {
     "name": "stdout",
     "output_type": "stream",
     "text": [
      "theta=[-3.4472708878475564, 0.99341623197899342, 1.419281185004498]\n"
     ]
    },
    {
     "data": {
      "image/png": "[encoded data removed]",
      "text/plain": [
       "<matplotlib.figure.Figure at 0x11605eb70>"
      ]
     },
     "metadata": {},
     "output_type": "display_data"
    }
   ],
   "source": [
    "def graph_ineff(funct, x_range, cl='r--', show=False):\n",
    "    y_range=[]                                                                                   \n",
    "    for x in x_range:\n",
    "        y_range.append(funct(x))\n",
    "    plt.plot(x_range,y_range,cl)\n",
    "    if show: plt.show()\n",
    "\n",
    "ax = plt.axes()\n",
    "\n",
    "df_X.query('label == -1').plot.scatter(x=0, y=1, ax=ax, color='blue')\n",
    "df_X.query('label == 1').plot.scatter(x=0, y=1, ax=ax, color='red')\n",
    "plt.xlabel('x_1')\n",
    "plt.ylabel('x_2')\n",
    "\n",
    "theta=[theta0,theta12[0],theta12[1]]\n",
    "print(\"theta={}\".format(theta))\n",
    "graph_ineff(lambda x1: (theta[0] + theta[1] * x1) / (- theta[2]),np.linspace(0,8,1000))"
   ]
  },
  {
   "cell_type": "markdown",
   "metadata": {
    "collapsed": true
   },
   "source": [
    "Outstanding questions: how do we know that $\\ell(\\phi,\\mu_{-1},\\mu_1,\\Sigma)$ is maximized in any of these parameters when taking the gradient? I guess $\\ell$ is concave in each of these parameters? I read somewhere that all distributions in the exponential family are concave (in which parameter?). And in the class notes, we saw that the Bernoulli and Gaussian (single-variable) distributions are both in the exponential family. So I guess $p(x|y)p(y)$ is in the exponential family?"
   ]
  },
  {
   "cell_type": "code",
   "execution_count": null,
   "metadata": {
    "collapsed": true
   },
   "outputs": [],
   "source": []
  }
 ],
 "metadata": {
  "kernelspec": {
   "display_name": "Python 3",
   "language": "python",
   "name": "python3"
  },
  "language_info": {
   "codemirror_mode": {
    "name": "ipython",
    "version": 3
   },
   "file_extension": ".py",
   "mimetype": "text/x-python",
   "name": "python",
   "nbconvert_exporter": "python",
   "pygments_lexer": "ipython3",
   "version": "3.6.1"
  }
 },
 "nbformat": 4,
 "nbformat_minor": 1
}
