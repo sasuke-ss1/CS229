{
 "cells": [
  {
   "cell_type": "markdown",
   "metadata": {},
   "source": [
    "To avoid confusion later, we'll use $(k)$ instead of $(i)$ for indexing the observations $x^{(k)}$. And we'll use $i$ and $j$ to index the dimensions of $x^{(k)}$. Suppose the $x^{(k)}$ are $n$-dimensional vectors and recall that $x_0^{(k)}\\equiv1$. Define $g(z)\\equiv\\frac{1}{1+e^{-z}}$ to be the sigmoid function and let $z^{(k)}\\equiv y^{(k)} \\theta^T x^{(k)}= y^{(k)}\\sum_{i=0}^n\\theta_ix_i^{(k)}$. Then\n",
    "\n",
    "$$\n",
    "J(\\theta)=\\frac{1}{m} \\sum_{k=1}^{m} \\mathrm{log}\\big(1 + e^{-y^{(k)} \\theta^T x^{(k)}}\\big)=\\frac{1}{m} \\sum_{k=1}^{m} \\mathrm{log}\\Big(\\Big[\\frac{1}{1 + e^{-y^{(k)} \\theta^T x^{(k)}}}\\Big]^{-1}\\Big)=-\\frac{1}{m} \\sum_{k=1}^{m} \\mathrm{log}\\big(g(z^{(k)})\\big)\n",
    "$$\n",
    "\n",
    "Note that the derivative of the sigmoid is\n",
    "\n",
    "$$\n",
    "\\frac{\\partial g}{\\partial z} =\\frac{\\partial \\frac{1}{1 + e^{-z}}}{\\partial z}  \n",
    "                              =\\frac{0 - 1 \\cdot\\frac{\\partial (1 + e^{-z})}{\\partial z}}{(1 + e^{-z})^2} \n",
    "                              =\\frac{--e^{-z}}{(1 + e^{-z})^2}\n",
    "                              =\\frac{e^{-z}}{(1 + e^{-z})^2} \n",
    "                              =\\frac{1}{1 + e^{-z}} \\cdot \\frac{e^{-z}}{1 + e^{-z}}\n",
    "                              =\\frac{1}{1 + e^{-z}} \\cdot \\frac{1+e^{-z}-1}{1 + e^{-z}}\n",
    "                              =g(1 - g)\n",
    "$$\n",
    "\n",
    "So\n",
    "\n",
    "\\begin{align*}\n",
    "\\frac{\\partial J}{\\partial \\theta_i} \n",
    " &= -\\frac{1}{m} \\sum_{k=1}^{m} \\frac{1}{g(z^{(k)})} \\frac{\\partial g(z^{(k)})}{\\partial z^{(k)}} \\frac{\\partial z^{(k)}(\\theta_i)}{\\partial \\theta_i}  \\\\\n",
    " &= -\\frac{1}{m} \\sum_{k=1}^{m} \\frac{1}{g(z^{(k)})} g(z^{(k)}) (1 - g(z^{(k)})) \\frac{\\partial z^{(k)}}{\\partial \\theta_i}  \\\\\n",
    " &= -\\frac{1}{m} \\sum_{k=1}^{m} (1 - g(z^{(k)})) \\frac{\\partial (y^{(k)} \\theta^T x^{(k)})}{\\partial \\theta_i}  \\\\\n",
    " &= -\\frac{1}{m} \\sum_{k=1}^{m} (1 - g(z^{(k)})) y^{(k)} x_i^{(k)}  \\\\\n",
    " &= \\frac{1}{m} \\sum_{k=1}^{m} (g(z^{(k)}) - 1) y^{(k)} x_i^{(k)}  \\\\\n",
    "\\end{align*}\n",
    "\n",
    "and\n",
    "\n",
    "\\begin{align*}\n",
    "H_{ij} = \\frac{\\partial^2 J}{\\partial \\theta_i\\partial \\theta_j} \n",
    "&= \\frac{1}{m} \\sum_{k=1}^{m} \\frac{\\partial (g(z^{(k)}) - 1)}{\\partial \\theta_j} y^{(k)} x_i^{(k)} \\\\\n",
    "&= \\frac{1}{m} \\sum_{k=1}^{m} \\frac{\\partial g(z^{(k)})}{\\partial \\theta_j} y^{(k)} x_i^{(k)} \\\\\n",
    "&= \\frac{1}{m} \\sum_{k=1}^{m} g(z^{(k)})(1 - g(z^{(k)})) \\frac{\\partial z^{(k)}}{\\partial \\theta_j} y^{(k)} x_i^{(k)} \\\\\n",
    "&= \\frac{1}{m} \\sum_{k=1}^{m} g(z^{(k)})(1 - g(z^{(k)})) y^{(k)} x_j^{(k)} y^{(k)} x_i^{(k)} \\\\\n",
    "&= \\frac{1}{m} \\sum_{k=1}^{m} g(z^{(k)})(1 - g(z^{(k)})) x_i^{(k)} x_j^{(k)} \\\\\n",
    "\\end{align*}\n",
    "\n",
    "The last equation follows because $y^{(k)}\\in\\{-1,1\\}$.\n",
    "\n",
    "And now we can show that $H$ is Positive Semi-definite. We will include the intercept term so that $H$ is $(n+1)\\times(n+1)$. For any vector $v\\in\\mathbb{R}^{n+1}$:\n",
    "\n",
    "\\begin{align*}\n",
    "v^THv &= \\begin{bmatrix}v_0&v_1&v_2&\\dots&v_n\\end{bmatrix}\\begin{bmatrix}H_{00}&H_{01}&H_{02}&\\dots&H_{0n}\\\\ H_{10}&H_{11}&H_{12}&\\dots&H_{1n}\\\\ H_{20}&H_{21}&H_{22}&\\dots&H_{2n}\\\\ \\vdots&\\vdots&\\vdots&\\ddots&\\vdots\\\\ H_{n0}&H_{n1}&H_{n2}&\\dots&H_{nn}\\end{bmatrix}\\begin{bmatrix}v_0\\\\ v_1\\\\ v_2\\\\ \\vdots\\\\ v_n\\end{bmatrix} \\\\\n",
    "&= \\begin{bmatrix}v_0&z_1&v_2&\\dots&v_n\\end{bmatrix}\\begin{bmatrix}\\sum_{j=0}^nH_{0j}v_j\\\\ \\sum_{j=0}^nH_{1j}v_j\\\\ \\sum_{j=0}^nH_{2j}v_j\\\\ \\vdots\\\\ \\sum_{j=0}^nH_{nj}v_{j} \\end{bmatrix} \\\\\n",
    "&= \\sum_{i=0}^{n} \\sum_{j=0}^{n} v_i H_{ij} v_j \\\\\n",
    "           &= \\sum_{i=0}^{n} \\sum_{j=0}^{n} [v_i \\frac{1}{m} \\sum_{k=1}^{m} g(z^{(k)})(1 - g(z^{(k)})) x_i^{(k)} x_j^{(k)}] v_j \\\\\n",
    "           &= \\frac{1}{m} \\sum_{k=1}^{m} g(z^{(k)})(1 - g(z^{(k)})) \\sum_{i=0}^{n} \\sum_{j=0}^{n} v_i x_i^{(k)} x_j^{(k)} v_j\\tag{1}\n",
    "\\end{align*}\n",
    "Note that for any $k=1,...,m$, we have\n",
    "\n",
    "\\begin{align*}\n",
    "\\sum_{i=0}^{n} \\sum_{j=0}^{n} v_i x_i^{(k)} x_j^{(k)} v_j &= \\sum_{i=0}^{n} v_i x_i^{(k)} \\sum_{j=0}^{n} x_j^{(k)} v_j \\\\\n",
    "    &= \\Big( \\sum_{i=0}^{n} v_i x_i^{(k)}\\Big) \\Big( \\sum_{j=0}^{n} x_j^{(k)} v_j\\Big) \\\\\n",
    "    &= \\big(v\\cdot x^{(k)}\\big) \\big(x^{(k)}\\cdot v\\big) \\\\\n",
    "    &= \\big(v\\cdot x^{(k)}\\big)^2\\geq0\n",
    "\\end{align*}\n",
    "\n",
    "Since $1>g(z)>0$ for all $z\\in\\mathbb{R}$, then $g(z^{(k)})(1-g(z^{(k)}))>0$ for all $k=1,...,m$ and (1) becomes\n",
    "\n",
    "$$\n",
    "v^THv = \\frac{1}{m} \\sum_{k=1}^{m} g(z^{(k)})(1 - g(z^{(k)})) \\sum_{i=0}^{n} \\sum_{j=0}^{n} v_i x_i^{(k)} x_j^{(k)} v_j\\geq0\n",
    "$$\n",
    "\n",
    "and $H\\succeq0$ is PSD. Hence $J$ is convex and has no local minima besides the single global minimum."
   ]
  },
  {
   "cell_type": "code",
   "execution_count": 1,
   "metadata": {
    "collapsed": true
   },
   "outputs": [],
   "source": [
    "import numpy as np\n",
    "import pandas as pd\n",
    "import matplotlib.pyplot as plt\n",
    "\n",
    "%matplotlib inline"
   ]
  },
  {
   "cell_type": "code",
   "execution_count": 2,
   "metadata": {},
   "outputs": [
    {
     "name": "stdout",
     "output_type": "stream",
     "text": [
      "type(df_X)=<class 'pandas.core.frame.DataFrame'> and df_X.shape=(99, 2)\n",
      "And the head:\n"
     ]
    },
    {
     "data": {
      "text/html": [
       "<div>\n",
       "<style>\n",
       "    .dataframe thead tr:only-child th {\n",
       "        text-align: right;\n",
       "    }\n",
       "\n",
       "    .dataframe thead th {\n",
       "        text-align: left;\n",
       "    }\n",
       "\n",
       "    .dataframe tbody tr th {\n",
       "        vertical-align: top;\n",
       "    }\n",
       "</style>\n",
       "<table border=\"1\" class=\"dataframe\">\n",
       "  <thead>\n",
       "    <tr style=\"text-align: right;\">\n",
       "      <th></th>\n",
       "      <th>0</th>\n",
       "      <th>1</th>\n",
       "    </tr>\n",
       "  </thead>\n",
       "  <tbody>\n",
       "    <tr>\n",
       "      <th>0</th>\n",
       "      <td>1.343250</td>\n",
       "      <td>-1.331148</td>\n",
       "    </tr>\n",
       "    <tr>\n",
       "      <th>1</th>\n",
       "      <td>1.820553</td>\n",
       "      <td>-0.634668</td>\n",
       "    </tr>\n",
       "    <tr>\n",
       "      <th>2</th>\n",
       "      <td>0.986321</td>\n",
       "      <td>-1.888576</td>\n",
       "    </tr>\n",
       "  </tbody>\n",
       "</table>\n",
       "</div>"
      ],
      "text/plain": [
       "          0         1\n",
       "0  1.343250 -1.331148\n",
       "1  1.820553 -0.634668\n",
       "2  0.986321 -1.888576"
      ]
     },
     "execution_count": 2,
     "metadata": {},
     "output_type": "execute_result"
    }
   ],
   "source": [
    "df_X = pd.read_csv('./logistic_x.txt', sep='\\ +', header=None, engine='python')\n",
    "print(\"type(df_X)={} and df_X.shape={}\".format(type(df_X),df_X.shape))\n",
    "print(\"And the head:\")\n",
    "df_X[:3]\n"
   ]
  },
  {
   "cell_type": "markdown",
   "metadata": {},
   "source": [
    "So each observation $x^{(k)}$ has two features, under the column headings \"0\" and \"1\". These are $x_1^{(k)}$ and $x_2^{(k)}$."
   ]
  },
  {
   "cell_type": "code",
   "execution_count": 3,
   "metadata": {},
   "outputs": [
    {
     "name": "stdout",
     "output_type": "stream",
     "text": [
      "type(ys)=<class 'pandas.core.frame.DataFrame'> and ys.shape=(99, 1)\n",
      "And the head:\n"
     ]
    },
    {
     "data": {
      "text/html": [
       "<div>\n",
       "<style>\n",
       "    .dataframe thead tr:only-child th {\n",
       "        text-align: right;\n",
       "    }\n",
       "\n",
       "    .dataframe thead th {\n",
       "        text-align: left;\n",
       "    }\n",
       "\n",
       "    .dataframe tbody tr th {\n",
       "        vertical-align: top;\n",
       "    }\n",
       "</style>\n",
       "<table border=\"1\" class=\"dataframe\">\n",
       "  <thead>\n",
       "    <tr style=\"text-align: right;\">\n",
       "      <th></th>\n",
       "      <th>0</th>\n",
       "    </tr>\n",
       "  </thead>\n",
       "  <tbody>\n",
       "    <tr>\n",
       "      <th>0</th>\n",
       "      <td>-1</td>\n",
       "    </tr>\n",
       "    <tr>\n",
       "      <th>1</th>\n",
       "      <td>-1</td>\n",
       "    </tr>\n",
       "    <tr>\n",
       "      <th>2</th>\n",
       "      <td>-1</td>\n",
       "    </tr>\n",
       "  </tbody>\n",
       "</table>\n",
       "</div>"
      ],
      "text/plain": [
       "   0\n",
       "0 -1\n",
       "1 -1\n",
       "2 -1"
      ]
     },
     "execution_count": 3,
     "metadata": {},
     "output_type": "execute_result"
    }
   ],
   "source": [
    "ys = pd.read_csv('./logistic_y.txt', sep='\\ +', header=None, engine='python')\n",
    "ys = ys.astype(int)\n",
    "print(\"type(ys)={} and ys.shape={}\".format(type(ys),ys.shape))\n",
    "print(\"And the head:\")\n",
    "ys[:3]"
   ]
  },
  {
   "cell_type": "code",
   "execution_count": 4,
   "metadata": {},
   "outputs": [
    {
     "data": {
      "text/plain": [
       "<matplotlib.text.Text at 0x10f37a1d0>"
      ]
     },
     "execution_count": 4,
     "metadata": {},
     "output_type": "execute_result"
    },
    {
     "data": {
      "image/png": "[encoded data removed]",
      "text/plain": [
       "<matplotlib.figure.Figure at 0x10f3486d8>"
      ]
     },
     "metadata": {},
     "output_type": "display_data"
    }
   ],
   "source": [
    "# Let's append the labels to the data\n",
    "df_X['label'] = ys[0].values\n",
    "# And let's take a look at the two data points, called \"0\" and \"1\", for each observation, colored coded by label:\n",
    "ax = plt.axes()\n",
    "df_X.query('label == -1').plot.scatter(x=0, y=1, ax=ax, color='blue')\n",
    "df_X.query('label == 1').plot.scatter(x=0, y=1, ax=ax, color='red')\n",
    "plt.xlabel('x_1')\n",
    "plt.ylabel('x_2')"
   ]
  },
  {
   "cell_type": "markdown",
   "metadata": {
    "collapsed": true
   },
   "source": [
    "Newton's method (Newton-Raphson method in the multidimensional setting) will find the zero of a function. That is, for a function $f$, it finds $\\theta$ such that $f(\\theta) = 0$. Now, one way to minimize our loss function $J(\\theta)$ is to use the Newton-Raphson method on the gradient $\\nabla_{\\theta} J(\\theta)$. Then the update rule becomes:\n",
    "\n",
    "$$\n",
    "\\theta := \\theta - H^{-1} \\nabla_{\\theta} J(\\theta)\n",
    "$$\n",
    "\n"
   ]
  },
  {
   "cell_type": "code",
   "execution_count": 5,
   "metadata": {},
   "outputs": [
    {
     "data": {
      "text/plain": [
       "(99, 2)"
      ]
     },
     "execution_count": 5,
     "metadata": {},
     "output_type": "execute_result"
    }
   ],
   "source": [
    "Xs = df_X[[0, 1]].values\n",
    "Xs.shape"
   ]
  },
  {
   "cell_type": "code",
   "execution_count": 6,
   "metadata": {
    "collapsed": true
   },
   "outputs": [],
   "source": [
    "# adding a columns of ones for the intercept terms, and also use column vectors\n",
    "Xs = np.hstack([np.ones((Xs.shape[0], 1)), Xs])\n",
    "ys = df_X['label'].values"
   ]
  },
  {
   "cell_type": "markdown",
   "metadata": {},
   "source": [
    "For quick reference, we copy the key equations from above:\n",
    "\n",
    "$$z^{(k)} = y^{(k)} \\theta^T x^{(k)}\\quad\\quad g(z^{(k)}) = \\frac{1}{1 + e^{-z^{(k)}}}$$\n",
    "\n",
    "$$\n",
    "\\frac{\\partial J}{\\partial \\theta_i} \n",
    " = \\frac{1}{m} \\sum_{k=1}^{m} (g(z^{(k)}) - 1) y^{(k)} x_i^{(k)}\n",
    "\\quad\\quad\n",
    "H_{ij} = \\frac{1}{m} \\sum_{k=1}^{m} g(z^{(k)})(1 - g(z^{(k)})) x_i^{(k)} x_j^{(k)}\n",
    "$$"
   ]
  },
  {
   "cell_type": "code",
   "execution_count": 7,
   "metadata": {},
   "outputs": [
    {
     "name": "stdout",
     "output_type": "stream",
     "text": [
      "converged after 7 iterations\n"
     ]
    }
   ],
   "source": [
    "all_thetas = []\n",
    "theta = np.zeros(Xs.shape[1])\n",
    "tol = 1e9\n",
    "n_iters = 0\n",
    "while tol > 1e-6:\n",
    "    zs = ys * Xs.dot(theta)\n",
    "    gzs = 1 / (1 + np.exp(-zs))\n",
    "    nablaJ = np.mean((gzs - 1) * ys * Xs.T, axis=1)\n",
    "    \n",
    "    hessian = np.zeros((Xs.shape[1], Xs.shape[1]))\n",
    "    for i in range(hessian.shape[0]):\n",
    "        for j in range(hessian.shape[0]):\n",
    "            if i <= j:\n",
    "                hessian[i][j] = np.mean(gzs * (1 - gzs) * Xs[:,i] * Xs[:,j])\n",
    "                if i != j:\n",
    "                    hessian[j][i] = hessian[i][j]\n",
    "            \n",
    "    delta = np.linalg.inv(hessian).dot(nablaJ)\n",
    "    old_theta = theta.copy()\n",
    "    theta -= delta\n",
    "    all_thetas.append(theta.copy())\n",
    "    n_iters += 1\n",
    "    tol = np.sum(np.abs(theta - old_theta))\n",
    "print('converged after {0} iterations'.format(n_iters))"
   ]
  },
  {
   "cell_type": "code",
   "execution_count": 8,
   "metadata": {},
   "outputs": [
    {
     "data": {
      "text/plain": [
       "[array([-1.50983811,  0.43509696,  0.62161752]),\n",
       " array([-2.21834632,  0.64372727,  0.95944716]),\n",
       " array([-2.55431051,  0.74137714,  1.13493588]),\n",
       " array([-2.61847133,  0.75979248,  1.1707512 ]),\n",
       " array([-2.62050954,  0.76037096,  1.17194549]),\n",
       " array([-2.6205116 ,  0.76037154,  1.17194674]),\n",
       " array([-2.6205116 ,  0.76037154,  1.17194674])]"
      ]
     },
     "execution_count": 8,
     "metadata": {},
     "output_type": "execute_result"
    }
   ],
   "source": [
    "all_thetas"
   ]
  },
  {
   "cell_type": "markdown",
   "metadata": {},
   "source": [
    "Recall that\n",
    "\n",
    "$$\n",
    "P(y=1|X=x;\\theta)=h_\\theta(x)=g(z)\n",
    "$$\n",
    "\n",
    "where $z=\\theta^Tx$ and $g(z)=\\frac1{1+e^{-z}}$ is the sigmoid function.\n",
    "\n",
    "One possible way to predict the value of $y$ is to do this:\n",
    "\n",
    "$$\n",
    "\\text{prediction}=\\begin{cases}\\text{predict }y=1&\\text{when }h_\\theta(x)>\\frac{1}{2}\\\\\\text{predict }y=-1&\\text{when }h_\\theta(x)<\\frac{1}{2}\\end{cases}\n",
    "$$\n",
    "\n",
    "Our logistic/sigmoid function $g(z)=\\frac1{1+e^{-z}}$ looks like this:"
   ]
  },
  {
   "cell_type": "code",
   "execution_count": 9,
   "metadata": {},
   "outputs": [
    {
     "data": {
      "image/png": "[encoded data removed]",
      "text/plain": [
       "<matplotlib.figure.Figure at 0x10f467898>"
      ]
     },
     "metadata": {},
     "output_type": "display_data"
    }
   ],
   "source": [
    "def graph_ineff(funct, x_range, cl='r--', show=False):\n",
    "    y_range=[]                                                                                   \n",
    "    for x in x_range:\n",
    "        y_range.append(funct(x))\n",
    "    plt.plot(x_range,y_range,cl)\n",
    "    if show: plt.show()\n",
    "\n",
    "xr=np.linspace(-9,9,1000)\n",
    "graph_ineff(lambda z: 1/(1+np.exp(-z)),xr,cl='b--')\n",
    "graph_ineff(lambda z: 1/2,xr)"
   ]
  },
  {
   "cell_type": "markdown",
   "metadata": {},
   "source": [
    "Notice that $h_\\theta(x)\\equiv g(z)$ is greater than $\\frac12$ exactly when $\\theta^Tx\\equiv z>0$.\n",
    "\n",
    "$$\n",
    "0<\\theta^Tx=\\theta_0+\\theta_1x_1+\\theta_2x_2\\iff-\\theta_2x_2<\\theta_0+\\theta_1x_1\\iff x_2>\\frac{\\theta_0+\\theta_1x_1}{-\\theta_2}\n",
    "$$\n",
    "\n",
    "The last equivalence holds because we see that $\\theta_2\\approx1.17>0$.\n",
    "\n",
    "So we will predict that $y=1$ (red dots in the graphs below) if and only if $x_2>\\frac{\\theta_0+\\theta_1x_1}{-\\theta_2}$. Otherwise, $y=-1$ (blue dots in the graphs below). That is, the line $x_2=\\frac{\\theta_0+\\theta_1x_1}{-\\theta_2}$ is our decision boundary:"
   ]
  },
  {
   "cell_type": "code",
   "execution_count": 10,
   "metadata": {},
   "outputs": [
    {
     "data": {
      "image/png": "[encoded data removed]",
      "text/plain": [
       "<matplotlib.figure.Figure at 0x10f5bfe10>"
      ]
     },
     "metadata": {},
     "output_type": "display_data"
    }
   ],
   "source": [
    "ax = plt.axes()\n",
    "\n",
    "df_X.query('label == -1').plot.scatter(x=0, y=1, ax=ax, color='blue')\n",
    "df_X.query('label == 1').plot.scatter(x=0, y=1, ax=ax, color='red')\n",
    "plt.xlabel('x_1')\n",
    "plt.ylabel('x_2')\n",
    "\n",
    "theta=all_thetas[-1]\n",
    "graph_ineff(lambda x1: (theta[0] + theta[1] * x1) / (- theta[2]),np.linspace(0,8,1000))"
   ]
  },
  {
   "cell_type": "code",
   "execution_count": 11,
   "metadata": {
    "scrolled": true
   },
   "outputs": [
    {
     "data": {
      "text/plain": [
       "<matplotlib.legend.Legend at 0x10f5d0fd0>"
      ]
     },
     "execution_count": 11,
     "metadata": {},
     "output_type": "execute_result"
    },
    {
     "data": {
      "image/png": "[encoded data removed]",
      "text/plain": [
       "<matplotlib.figure.Figure at 0x10f4f9390>"
      ]
     },
     "metadata": {},
     "output_type": "display_data"
    }
   ],
   "source": [
    "# To see the convergence of the thetas:\n",
    "ax = plt.axes()\n",
    "\n",
    "df_X.query('label == -1').plot.scatter(x=0, y=1, ax=ax, color='blue')\n",
    "df_X.query('label == 1').plot.scatter(x=0, y=1, ax=ax, color='red')\n",
    "\n",
    "_x1s = np.array([np.min(Xs[:,1]), np.max(Xs[:,1])])\n",
    "for k, theta in enumerate(all_thetas):\n",
    "    _x2s = (theta[0] + theta[1] * _x1s) / (- theta[2])\n",
    "    plt.plot(_x1s, _x2s, label='iter {0}'.format(k + 1), lw=0.5)\n",
    "plt.xlabel('x_1')\n",
    "plt.ylabel('x_2')\n",
    "plt.legend(bbox_to_anchor=(1.04,1), loc=\"upper left\")"
   ]
  },
  {
   "cell_type": "markdown",
   "metadata": {},
   "source": [
    "All of these lines are close together. So, for this dataset, Newton's method has converged very quickly."
   ]
  },
  {
   "cell_type": "code",
   "execution_count": null,
   "metadata": {
    "collapsed": true
   },
   "outputs": [],
   "source": []
  }
 ],
 "metadata": {
  "kernelspec": {
   "display_name": "Python 3",
   "language": "python",
   "name": "python3"
  },
  "language_info": {
   "codemirror_mode": {
    "name": "ipython",
    "version": 3
   },
   "file_extension": ".py",
   "mimetype": "text/x-python",
   "name": "python",
   "nbconvert_exporter": "python",
   "pygments_lexer": "ipython3",
   "version": "3.6.1"
  }
 },
 "nbformat": 4,
 "nbformat_minor": 2
}
