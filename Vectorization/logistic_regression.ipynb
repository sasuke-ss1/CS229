{
 "cells": [
  {
   "cell_type": "code",
   "execution_count": 1,
   "metadata": {},
   "outputs": [
    {
     "name": "stdout",
     "output_type": "stream",
     "text": [
      "X=(10000, 784)  y=(10000,)\n"
     ]
    }
   ],
   "source": [
    "import numpy as np\n",
    "import math\n",
    "import time\n",
    "X = np.ndfromtxt('images.csv', delimiter=',')\n",
    "y = np.ndfromtxt(\"labels.csv\", delimiter=',', dtype=np.int8)\n",
    "img_size = X.shape[1]\n",
    "print(\"X={}  y={}\".format(X.shape, y.shape))"
   ]
  },
  {
   "cell_type": "code",
   "execution_count": 2,
   "metadata": {},
   "outputs": [
    {
     "name": "stdout",
     "output_type": "stream",
     "text": [
      "ind=(10000,)  sumind=2115  X=(2115, 784)  y=(2115,)\n",
      "X_train=(1692, 784)  X_test=(422, 784)  y_train=(1692,)  y_test=(422,)\n"
     ]
    }
   ],
   "source": [
    "# filter out only 0 and 1 and split data\n",
    "ind = np.logical_or(y == 1, y == 0)\n",
    "X = X[ind, :]\n",
    "y = y[ind]\n",
    "print(\"ind={}  sumind={}  X={}  y={}\".format(ind.shape, np.sum(ind), X.shape, y.shape))\n",
    "\n",
    "num_train = int(len(y) * 0.8)\n",
    "X_train = X[0:num_train, :]\n",
    "X_test = X[num_train:-1,:]\n",
    "y_train = y[0:num_train]\n",
    "y_test = y[num_train:-1]\n",
    "print(\"X_train={}  X_test={}  y_train={}  y_test={}\".format(X_train.shape, X_test.shape, y_train.shape, y_test.shape))"
   ]
  },
  {
   "cell_type": "code",
   "execution_count": 3,
   "metadata": {},
   "outputs": [
    {
     "name": "stdout",
     "output_type": "stream",
     "text": [
      "theta.shape=(784,)\n",
      "235 µs ± 2.79 µs per loop (mean ± std. dev. of 7 runs, 1000 loops each)\n",
      "3.1 µs ± 27.6 ns per loop (mean ± std. dev. of 7 runs, 100000 loops each)\n"
     ]
    }
   ],
   "source": [
    "def h1(theta, x):\n",
    "    sum = 0.0\n",
    "    for i in range(len(x)):\n",
    "        sum -= theta[i] * x[i]\n",
    "    return 1 / (1 + math.exp(sum))\n",
    "\n",
    "def h2(theta, x):\n",
    "    return 1 / (1 + np.exp(np.dot(theta, x)))\n",
    "\n",
    "theta = np.zeros([img_size])\n",
    "print(\"theta.shape={}\".format(theta.shape))\n",
    "x = X[0,:]\n",
    "%timeit h1(theta, x)\n",
    "%timeit h2(theta, x)"
   ]
  },
  {
   "cell_type": "markdown",
   "metadata": {},
   "source": [
    "Now we implement gradient descent, which was derived in the class notes 1, p.5:\n",
    "\n",
    "$$\\begin{align*}\n",
    "\\theta_j\\mapsto\\theta_j-\\alpha\\sum_{i=1}^m(h_\\theta(x^{(i)})-y^{(i)})x_j^{(i)}\n",
    "\\end{align*}$$\n",
    "\n",
    "where\n",
    "\n",
    "$$\\begin{align*}\n",
    "h_\\theta(x)=\\frac{1}{1+e^{-\\theta^Tx}}\n",
    "\\end{align*}$$"
   ]
  },
  {
   "cell_type": "code",
   "execution_count": 4,
   "metadata": {},
   "outputs": [
    {
     "name": "stderr",
     "output_type": "stream",
     "text": [
      "/Applications/anaconda/lib/python3.6/site-packages/ipykernel_launcher.py:5: RuntimeWarning: overflow encountered in exp\n",
      "  \"\"\"\n"
     ]
    },
    {
     "name": "stdout",
     "output_type": "stream",
     "text": [
      "time elapsed: 4.671528100967407 seconds\n"
     ]
    }
   ],
   "source": [
    "# doing everything element-wise\n",
    "\n",
    "# multiply each observation x by the parameter vector theta\n",
    "def h(theta, x):\n",
    "    return 1 / (1 + np.exp(-np.dot(theta, x)))\n",
    "\n",
    "def GD_elementwise(theta, X_train, y_train, alpha):\n",
    "    # diff_arr.shape=(1692,)\n",
    "    diff_arr = np.zeros([len(y_train)])\n",
    "    for m in range(len(y_train)):\n",
    "        # X_train[m, :].shape=(784, )  theta.shape=(784,)\n",
    "        # np.dot(theta, x).shape = ()\n",
    "        diff_arr[m] = h(theta, X_train[m, :]) - y_train[m]\n",
    "    for j in range(len(theta)):\n",
    "        s = 0.0\n",
    "        for m in range(len(y_train)):\n",
    "            s += diff_arr[m] * X_train[m, j]\n",
    "        theta[j] = theta[j] - alpha * s\n",
    "        \n",
    "def train_elementwise(X_train, y_train, max_iter, alpha):\n",
    "    theta = np.zeros([img_size])\n",
    "    for i in range(max_iter):\n",
    "        GD_elementwise(theta, X_train, y_train, alpha)       \n",
    "    return theta\n",
    "    \n",
    "max_iter = 10\n",
    "alpha = 0.01\n",
    "start = time.time()\n",
    "theta = train_elementwise(X_train, y_train, max_iter, alpha)\n",
    "end = time.time()\n",
    "print(\"time elapsed: {0} seconds\".format(end - start))\n",
    "# pred = (np.sign(h_vec(theta, X_test) - 0.5) + 1) / 2\n",
    "# print(\"percentage correct: {0}\".format(np.sum(pred == y_test) / len(y_test)))"
   ]
  },
  {
   "cell_type": "code",
   "execution_count": 5,
   "metadata": {},
   "outputs": [
    {
     "name": "stdout",
     "output_type": "stream",
     "text": [
      "time elapsed: 0.12651896476745605 seconds\n",
      "percentage correct: 1.0\n"
     ]
    }
   ],
   "source": [
    "#some vectorization\n",
    "\n",
    "# to vectorize h=sigmoid, we multiply all observations (rows of X) by the parameter vector theta\n",
    "# X_train.shape=(1692, 784)  theta.shape=(784,)\n",
    "# matmul(X_train, theta).shape=(1692, )\n",
    "def h_vec(theta, X):\n",
    "    signal = np.clip( np.matmul(X, theta), -500, 500 )\n",
    "    return 1 / (1 + np.exp(-signal))\n",
    "\n",
    "def GD_better(theta,  X_train, y_train, alpha):\n",
    "    diff_arr = h_vec(theta, X_train) - y_train\n",
    "    for j in range(len(theta)):\n",
    "        # diff_arr.shape=(1692,)  X_train[:, j].shape=(1692,)\n",
    "        # np.dot(diff_arr, X_train[:, j]).shape = ()\n",
    "        theta[j] = theta[j] - alpha * np.dot(diff_arr, X_train[:, j])\n",
    "        \n",
    "def train_better(X_train, y_train, max_iter, alpha):\n",
    "    theta = np.zeros([img_size])\n",
    "    for i in range(max_iter):\n",
    "        GD_better(theta, X_train, y_train, alpha)       \n",
    "    return theta\n",
    "    \n",
    "max_iter = 10\n",
    "alpha = 0.01\n",
    "start = time.time()\n",
    "theta = train_better(X_train, y_train, max_iter, alpha)\n",
    "end = time.time()\n",
    "print(\"time elapsed: {0} seconds\".format(end - start))\n",
    "pred = (np.sign(h_vec(theta, X_test) - 0.5) + 1) / 2\n",
    "print(\"percentage correct: {0}\".format(np.sum(pred == y_test) / len(y_test)))"
   ]
  },
  {
   "cell_type": "code",
   "execution_count": 14,
   "metadata": {},
   "outputs": [
    {
     "name": "stdout",
     "output_type": "stream",
     "text": [
      "time elapsed: 6.378481864929199 seconds\n",
      "percentage correct: 1.0\n"
     ]
    }
   ],
   "source": [
    "#fully vectorized\n",
    "def GD (theta, X_train, y_train, alpha):\n",
    "    # X_train.shape=(1692, 784)  theta.shape=(784,)\n",
    "    # diff.shape = matmul(X_train, theta).shape=(1692, )\n",
    "    diff = h_vec(theta, X_train) - y_train\n",
    "    # reshape(diff, [1, -1]).shape = (1,1692)\n",
    "    diff = np.reshape(diff, [1, -1])\n",
    "    # dx.shape = (1, 1692)*(1692, 784)=(1,784)\n",
    "    dx = np.matmul(diff, X_train)\n",
    "    # np.squeeze(dx).shape = (784,)\n",
    "    theta -= alpha * np.squeeze(dx)\n",
    "    return theta\n",
    "    \n",
    "def train_vec(X_train, y_train, max_iter, alpha):\n",
    "    theta = np.zeros([img_size])\n",
    "    for i in range(max_iter):\n",
    "        theta = GD(theta, X_train, y_train, alpha)       \n",
    "    return theta\n",
    "\n",
    "max_iter = 10000\n",
    "alpha = 0.01\n",
    "start = time.time()\n",
    "theta = train_vec(X_train, y_train, max_iter, alpha)\n",
    "end = time.time()\n",
    "print(\"time elapsed: {0} seconds\".format(end - start))\n",
    "pred = (np.sign(h_vec(theta, X_test) - 0.5) + 1) / 2\n",
    "print(\"percentage correct: {0}\".format(np.sum(pred == y_test) / len(y_test)))"
   ]
  },
  {
   "cell_type": "code",
   "execution_count": 7,
   "metadata": {},
   "outputs": [
    {
     "data": {
      "image/png": "[encoded data removed]",
      "text/plain": [
       "<matplotlib.figure.Figure at 0x1197e3278>"
      ]
     },
     "metadata": {},
     "output_type": "display_data"
    }
   ],
   "source": [
    "import matplotlib.pyplot as plt\n",
    "\n",
    "def graph_ineff(funct, x_range, cl='r--', show=False):\n",
    "    y_range=[]                                                                                   \n",
    "    for x in x_range:\n",
    "        y_range.append(funct(x))\n",
    "    plt.plot(x_range,y_range,cl)\n",
    "    if show: plt.show()\n",
    "\n",
    "xr=np.linspace(-9,9,1000)\n",
    "graph_ineff(lambda z: 1/(1+np.exp(-z))-1/2,xr,cl='b--')\n",
    "graph_ineff(lambda z: np.sign(1/(1+np.exp(-z))-1/2),xr,cl='g--')\n",
    "graph_ineff(lambda z: (np.sign(1/(1+np.exp(-z))-1/2)+1)/2,xr,cl='k--')\n",
    "graph_ineff(lambda z: 1/2,xr, show=True)"
   ]
  },
  {
   "cell_type": "code",
   "execution_count": null,
   "metadata": {
    "collapsed": true
   },
   "outputs": [],
   "source": []
  }
 ],
 "metadata": {
  "kernelspec": {
   "display_name": "Python 3",
   "language": "python",
   "name": "python3"
  },
  "language_info": {
   "codemirror_mode": {
    "name": "ipython",
    "version": 3
   },
   "file_extension": ".py",
   "mimetype": "text/x-python",
   "name": "python",
   "nbconvert_exporter": "python",
   "pygments_lexer": "ipython3",
   "version": "3.6.1"
  }
 },
 "nbformat": 4,
 "nbformat_minor": 1
}
