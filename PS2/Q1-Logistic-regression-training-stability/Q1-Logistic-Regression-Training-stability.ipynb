{
 "cells": [
  {
   "cell_type": "markdown",
   "metadata": {},
   "source": [
    "http://cs229.stanford.edu/ps/ps2/ps2.pdf"
   ]
  },
  {
   "cell_type": "markdown",
   "metadata": {},
   "source": [
    "### Logistic Loss and its Gradient\n",
    "\n",
    "This section continues the subject matter from loss-functions.pdf. \n",
    "\n",
    "Define $g$ to be the sigmoid function:\n",
    "\n",
    "$$\n",
    "g(z)\\equiv\\frac{1}{1+e^{-z}}\n",
    "$$\n",
    "\n",
    "In the notebook Binary-Logistic-Regression, we showed that the sigmoid is a cumulative distribution function and its density is symmetric about zero. This makes the sigmoid a good candidate to define a probability model for binary classification.\n",
    "\n",
    "Let $\\mathscr{Y}$ be a discrete random variable with values in $\\{-1,1\\}$. And let $\\mathscr{X}=[\\mathscr{X}_1,...,\\mathscr{X}_n]^{T}$ be a continuous random vector.\n",
    "\n",
    "Define the __logistic model__ for classification as\n",
    "\n",
    "$$\n",
    "P(\\mathscr{Y}=y^{(i)}\\mid\\mathscr{X}=x^{(i)};\\theta)=g(y^{(i)}\\theta^Tx^{(i)})=\\frac{1}{1+e^{-y^{(i)}\\theta^Tx^{(i)}}}\n",
    "$$\n",
    "\n",
    "For intepretation, we see that if the margin $y^{(i)}\\theta^Tx^{(i)}$ is large — bigger than, say, 5 or so — then $P(\\mathscr{Y} = y^{(i)}\\lvert\\mathscr{X}=x^{(i)};\\theta) = g(y^{(i)}\\theta^Tx^{(i)})\\approx1$. That is, we assign nearly probability 1 to the event that the label is $y^{(i)}$. Conversely, if $y^{(i)}\\theta^Tx^{(i)}$ is quite negative, then $P(\\mathscr{Y} = y^{(i)}\\mid\\mathscr{X}=x^{(i)};\\theta)\\approx0$.\n",
    "\n",
    "Define the hypothesis function $h_\\theta$ as\n",
    "\n",
    "$$\n",
    "h_\\theta(x)\\equiv g(\\theta^Tx) = \\frac{1}{1+e^{-\\theta^Tx}}\n",
    "$$\n",
    "\n",
    "Given a training set $\\{X,y\\}=\\{x^{(i)},y^{(i)}\\}_{i=1}^{m}$ of independent observations from $\\mathscr{X},\\mathscr{Y}$, then we define our likelihood as\n",
    "\n",
    "$$\\begin{align*}\n",
    "\\mathscr{L}(\\theta) &= p(y\\mid X;\\theta) \\\\\n",
    "    &= P(\\mathscr{Y}=y^{(1)}\\mid\\mathscr{X}=x^{(1)},...,\\mathscr{Y}=y^{(m)}\\mid\\mathscr{X}=x^{(m)};\\theta) \\\\\n",
    "    &= \\prod_{i=1}^{m}P(\\mathscr{Y}=y^{(i)}\\lvert\\mathscr{X}=x^{(i)};\\theta)\\tag{Independent observations} \\\\\n",
    "    &= \\prod_{i=1}^{m}g(y^{(i)}\\theta^Tx^{(i)})\\tag{LLG.0}\n",
    "\\end{align*}$$\n",
    "\n",
    "Then our log-likelihood is\n",
    "\n",
    "$$\n",
    "\\mathscr{l}(\\theta)=\\sum_{i=1}^{m}\\log\\big(g(y^{(i)}\\theta^Tx^{(i)})\\big)\n",
    "$$\n",
    "\n",
    "Let $\\phi$ be the __logistic loss__ defined as\n",
    "\n",
    "$$\n",
    "\\phi(z)\\equiv\\log(1+e^{-z})=\\log\\Big(\\Big[\\frac{1}{1+e^{-z}}\\Big]^{-1}\\Big)=\\log\\big(g(z)^{-1}\\big)=-\\log\\big(g(z)\\big)\n",
    "$$\n",
    "\n",
    "The __logistic objective__ function (aka __logistic risk__) is\n",
    "\n",
    "$$\n",
    "J(\\theta)\\equiv\\frac{1}{m}\\sum_{i=1}^{m}\\phi\\big(y^{(i)}\\theta^Tx^{(i)}\\big)=-\\frac{1}{m}\\sum_{i=1}^{m}\\log\\big(g(y^{(i)}\\theta^Tx^{(i)})\\big)=-\\frac{1}{m}\\mathscr{l}(\\theta)\n",
    "$$\n",
    "\n",
    "From p.6 of loss-functions.pdf, we have\n",
    "\n",
    "$$\n",
    "\\frac{\\partial}{\\partial \\theta_k}\\phi\\big(y^{(i)}\\theta^Tx^{(i)}\\big)=-g\\big(-y^{(i)}\\theta^Tx^{(i)}\\big)y^{(i)}x^{(i)}_k\n",
    "$$\n",
    "\n",
    "Hence\n",
    "\n",
    "$$\\begin{align*}\n",
    "\\nabla J(\\theta) &= \\frac{1}{m}\\sum_{i=1}^{m}\\nabla\\phi\\big(y^{(i)}\\theta^Tx^{(i)}\\big)\\\\\\\\\n",
    "    &=\\frac{1}{m}\\sum_{i=1}^{m}\\begin{bmatrix}\\frac{\\partial}{\\partial \\theta_1}\\phi\\big(y^{(i)}\\theta^Tx^{(i)}\\big)\\\\\\vdots\\\\\\frac{\\partial}{\\partial \\theta_n}\\phi\\big(y^{(i)}\\theta^Tx^{(i)}\\big)\\end{bmatrix} \\\\\\\\\n",
    "    &=\\frac{1}{m}\\sum_{i=1}^{m}\\begin{bmatrix}-g\\big(-y^{(i)}\\theta^Tx^{(i)}\\big)y^{(i)}x^{(i)}_1\\\\\\vdots\\\\-g\\big(-y^{(i)}\\theta^Tx^{(i)}\\big)y^{(i)}x^{(i)}_n\\end{bmatrix} \\\\\\\\\n",
    "    &= -\\frac{1}{m}\\sum_{i=1}^{m}g\\big(-y^{(i)}\\theta^Tx^{(i)}\\big)y^{(i)}\\begin{bmatrix}x^{(i)}_1\\\\\\vdots\\\\x^{(i)}_n\\end{bmatrix}\\\\\\\\\n",
    "    &=-\\frac{1}{m}\\sum_{i=1}^{m}g\\big(-y^{(i)}\\theta^Tx^{(i)}\\big)y^{(i)}x^{(i)}\\tag{LLG.1}\\\\\\\\\n",
    "\\end{align*}$$\n",
    "\n",
    "Alternatively, we can vectorize this\n",
    "    \n",
    "$$\\begin{align*}\n",
    "\\nabla J(\\theta) &= \\frac{1}{m}\\sum_{i=1}^{m}\\nabla\\phi\\big(y^{(i)}\\theta^Tx^{(i)}\\big)\\\\\\\\\n",
    "    &=\\frac{1}{m}\\sum_{i=1}^{m}\\begin{bmatrix}\\frac{\\partial}{\\partial \\theta_1}\\phi\\big(y^{(i)}\\theta^Tx^{(i)}\\big)\\\\\\vdots\\\\\\frac{\\partial}{\\partial \\theta_n}\\phi\\big(y^{(i)}\\theta^Tx^{(i)}\\big)\\end{bmatrix} \\\\\\\\\n",
    "    &= \\frac{1}{m}\\sum_{i=1}^{m}\\begin{bmatrix}-g\\big(-y^{(i)}\\theta^Tx^{(i)}\\big)y^{(i)}x^{(i)}_1\\\\\\vdots\\\\-g\\big(-y^{(i)}\\theta^Tx^{(i)}\\big)y^{(i)}x^{(i)}_n\\end{bmatrix} \\\\\\\\\n",
    "    &=-\\frac{1}{m}\\begin{bmatrix}\\sum_{i=1}^{m}x_1^{(i)}g\\big(-y^{(i)}\\theta^Tx^{(i)}\\big)y^{(i)}\\\\\\vdots\\\\\\sum_{i=1}^{m}x_n^{(i)}g\\big(-y^{(i)}\\theta^Tx^{(i)}\\big)y^{(i)}\\end{bmatrix}\\\\\\\\\n",
    "    &=-\\frac{1}{m}\\begin{bmatrix}x_1^{(1)}&\\dots&x_1^{(m)}\\\\\\vdots&\\ddots&\\vdots\\\\x_n^{(1)}&\\dots&x_n^{(m)}\\end{bmatrix}\\begin{bmatrix}g\\big(-y^{(1)}\\theta^Tx^{(1)}\\big)y^{(1)}\\\\\\vdots\\\\g\\big(-y^{(m)}\\theta^Tx^{(m)}\\big)y^{(m)}\\end{bmatrix}\\\\\\\\\n",
    "    &=-\\frac{1}{m}\\begin{bmatrix}x^{(1)}&\\dots&x^{(m)}\\end{bmatrix}\\begin{bmatrix}g\\big(-y^{(1)}\\theta^Tx^{(1)}\\big)y^{(1)}\\\\\\vdots\\\\g\\big(-y^{(m)}\\theta^Tx^{(m)}\\big)y^{(m)}\\end{bmatrix}\\\\\\\\\n",
    "    &=-\\frac{1}{m}\\begin{bmatrix}(x^{(1)})^T\\\\\\vdots\\\\(x^{(m)})^T\\end{bmatrix}\\begin{bmatrix}g\\big(-y^{(1)}\\theta^Tx^{(1)}\\big)y^{(1)}\\\\\\vdots\\\\g\\big(-y^{(m)}\\theta^Tx^{(m)}\\big)y^{(m)}\\end{bmatrix}\\\\\\\\\n",
    "    &=-\\frac{1}{m}X^T\\begin{bmatrix}g\\big(-y^{(1)}\\theta^Tx^{(1)}\\big)y^{(1)}\\\\\\vdots\\\\g\\big(-y^{(m)}\\theta^Tx^{(m)}\\big)y^{(m)}\\end{bmatrix}\\\\\\\\\n",
    "    &=-\\frac{1}{m}X^T(p * y)\\tag{LLG.2}\\\\\\\\\n",
    "\\end{align*}$$\n",
    "\n",
    "where '$*$' denotes elementwise multiplication and\n",
    "\n",
    "$$\n",
    "p\\equiv\\begin{bmatrix}g\\big(-y^{(1)}\\theta^Tx^{(1)}\\big)\\\\\\vdots\\\\g\\big(-y^{(m)}\\theta^Tx^{(m)}\\big)\\end{bmatrix}\\quad\\text{and}\\quad y\\equiv\\begin{bmatrix}y^{(1)}\\\\\\vdots\\\\y^{(m)}\\end{bmatrix}\n",
    "$$"
   ]
  },
  {
   "cell_type": "markdown",
   "metadata": {},
   "source": [
    "# (a)\n",
    "\n",
    "The most notable difference is that training of data_b doesn't seem to converge whereas that of data_a converges quickly."
   ]
  },
  {
   "cell_type": "markdown",
   "metadata": {},
   "source": [
    "# (b)"
   ]
  },
  {
   "cell_type": "code",
   "execution_count": 1,
   "metadata": {
    "collapsed": true
   },
   "outputs": [],
   "source": [
    "def add_intercept(X_):\n",
    "    m, n = X_.shape\n",
    "    X = np.zeros((m, n + 1))\n",
    "    X[:, 0] = 1\n",
    "    X[:, 1:] = X_\n",
    "    return X\n",
    "\n",
    "def load_data(filename):\n",
    "    D = np.loadtxt(filename)\n",
    "    Y = D[:, 0]\n",
    "    X = D[:, 1:]\n",
    "    return add_intercept(X), Y\n",
    "\n",
    "def sigmoid(z):\n",
    "    # we want to prevent overflow in np.exp(), so we first clip z\n",
    "    signal = np.clip(z, -700, 700)\n",
    "    return 1. / (1 + np.exp(-z))\n",
    "\n",
    "def logistic_cost(probs, regularization=0, theta=0):\n",
    "    return -np.mean(np.log(probs)) + (regularization * (np.linalg.norm(theta)**2))\n",
    "\n",
    "def logistic_grad(X, Y, probs, regularization=0, theta=0):\n",
    "    # the grad is an implementation of LLG.2 from the top of the page\n",
    "    # regularization for grad follows from PS-0, Question 1a\n",
    "    return -(1./X.shape[0]) * (X.T.dot(probs * Y)) + (regularization * 2 * theta)\n",
    "\n",
    "def logistic_cost_and_grad(X, Y, theta, regularization=0, cog='both'):\n",
    "    margins = Y * X.dot(theta)\n",
    "    th = theta if regularization else 0\n",
    "    if cog == 'grad':\n",
    "        probs = sigmoid(-margins)\n",
    "        return logistic_grad(X, Y, probs, regularization=regularization, theta=th)\n",
    "    if cog == 'cost':\n",
    "        probs = sigmoid(margins)\n",
    "        return logistic_cost(probs, regularization=regularization, theta=th)\n",
    "    if cog == 'both':\n",
    "        pc = sigmoid(margins)\n",
    "        pg = 1 - pc\n",
    "        cost = logistic_cost(pc, regularization=regularization, theta=th)\n",
    "        grad = logistic_grad(X, Y, pg, regularization=regularization, theta=th)\n",
    "        return cost, grad\n",
    "\n",
    "def logistic_regression(X, Y, scale_lr_geom=False, scale_lr_prop=0, regularization=0):\n",
    "    theta = np.zeros(X.shape[1])\n",
    "    learning_rate = 10\n",
    "    thetas, thetas_sample, errors, losses = [], [], [], []\n",
    "    i = 0\n",
    "    while True:\n",
    "        i += 1\n",
    "        prev_theta = theta\n",
    "        cost, grad = logistic_cost_and_grad(X, Y, theta, regularization=regularization, cog='both')\n",
    "        theta = theta - learning_rate * grad\n",
    "        thetas.append(theta)\n",
    "        errors.append(np.linalg.norm(prev_theta - theta))\n",
    "        losses.append(cost)\n",
    "        if scale_lr_geom: learning_rate /= (i**2)\n",
    "        if scale_lr_prop: learning_rate *= scale_lr_prop\n",
    "        if i % 10000 == 0:\n",
    "            print('iters={} theta={} error={} loss={}'.format(i, theta, errors[-1], losses[-1]))\n",
    "            thetas_sample.append(theta)\n",
    "        if errors[-1] < 1e-15:\n",
    "            print('Converged in %d iterations' % i)\n",
    "            break\n",
    "        if i == 200 * 1000:\n",
    "            break\n",
    "    return np.array(thetas), thetas_sample, errors, losses"
   ]
  },
  {
   "cell_type": "code",
   "execution_count": 2,
   "metadata": {
    "collapsed": true
   },
   "outputs": [],
   "source": [
    "import numpy as np\n",
    "import pandas as pd\n",
    "import matplotlib.pyplot as plt\n",
    "\n",
    "%matplotlib inline"
   ]
  },
  {
   "cell_type": "code",
   "execution_count": 3,
   "metadata": {
    "collapsed": true
   },
   "outputs": [],
   "source": [
    "dfa = pd.read_csv('http://cs229.stanford.edu/ps/ps2/data_a.txt', header=None, sep=' ', names=['label', 'x1', 'x2'])"
   ]
  },
  {
   "cell_type": "code",
   "execution_count": 4,
   "metadata": {},
   "outputs": [
    {
     "data": {
      "text/plain": [
       "<matplotlib.axes._subplots.AxesSubplot at 0x115db29e8>"
      ]
     },
     "execution_count": 4,
     "metadata": {},
     "output_type": "execute_result"
    },
    {
     "data": {
      "image/png": "[encoded data removed]",
      "text/plain": [
       "<matplotlib.figure.Figure at 0x115cdff98>"
      ]
     },
     "metadata": {},
     "output_type": "display_data"
    }
   ],
   "source": [
    "ax = plt.axes()\n",
    "\n",
    "dfa.query('label ==  1').plot.scatter(x='x1', y='x2', ax=ax, color='blue')\n",
    "dfa.query('label == -1').plot.scatter(x='x1', y='x2', ax=ax, color='red')"
   ]
  },
  {
   "cell_type": "code",
   "execution_count": 5,
   "metadata": {
    "collapsed": true
   },
   "outputs": [],
   "source": [
    "dfb = pd.read_csv('http://cs229.stanford.edu/ps/ps2/data_b.txt', header=None, sep=' ', names=['label', 'x1', 'x2'])"
   ]
  },
  {
   "cell_type": "code",
   "execution_count": 6,
   "metadata": {},
   "outputs": [
    {
     "data": {
      "text/plain": [
       "<matplotlib.axes._subplots.AxesSubplot at 0x116e0be48>"
      ]
     },
     "execution_count": 6,
     "metadata": {},
     "output_type": "execute_result"
    },
    {
     "data": {
      "image/png": "[encoded data removed]",
      "text/plain": [
       "<matplotlib.figure.Figure at 0x116e5d0f0>"
      ]
     },
     "metadata": {},
     "output_type": "display_data"
    }
   ],
   "source": [
    "ax = plt.axes()\n",
    "\n",
    "dfb.query('label ==  1').plot.scatter(x='x1', y='x2', ax=ax, color='blue')\n",
    "dfb.query('label == -1').plot.scatter(x='x1', y='x2', ax=ax, color='red')"
   ]
  },
  {
   "cell_type": "code",
   "execution_count": 7,
   "metadata": {},
   "outputs": [
    {
     "name": "stdout",
     "output_type": "stream",
     "text": [
      "iters=10000 theta=[-20.81394174  21.45250215  19.85155266] error=7.226491864936692e-07 loss=0.15988748221132873\n",
      "iters=20000 theta=[-20.81437785  21.45295156  19.85198173] error=5.3329818166826493e-11 loss=0.15988748218387225\n",
      "iters=30000 theta=[-20.81437788  21.45295159  19.85198176] error=6.153480596427404e-15 loss=0.1598874821838722\n",
      "Converged in 30392 iterations\n",
      "theta for dataset a=[-20.81437788  21.45295159  19.85198176]\n"
     ]
    }
   ],
   "source": [
    "Xa, Ya = load_data('data_a.txt')\n",
    "thetas_a, thetas_sample_a, errors_a, losses_a = logistic_regression(Xa, Ya)\n",
    "print(\"theta for dataset a={}\".format(thetas_a[-1]))"
   ]
  },
  {
   "cell_type": "code",
   "execution_count": 8,
   "metadata": {},
   "outputs": [
    {
     "data": {
      "image/png": "[encoded data removed]",
      "text/plain": [
       "<matplotlib.figure.Figure at 0x116ff9f60>"
      ]
     },
     "metadata": {},
     "output_type": "display_data"
    }
   ],
   "source": [
    "fig, axes = plt.subplots(1, 3, sharex=True, sharey=True, figsize=(12, 3))\n",
    "axes = axes.ravel()\n",
    "\n",
    "for k, theta in enumerate(thetas_sample_a[:3]):\n",
    "    ax = axes[k]\n",
    "    xs = np.arange(0, 1, 0.1)\n",
    "    ys = (-theta[0] - theta[1] * xs) / theta[2]\n",
    "    ax.plot(xs, ys, lw=0.5)\n",
    "    dfa.query('label ==  1').plot.scatter(x='x1', y='x2', ax=ax, color='blue')\n",
    "    dfa.query('label == -1').plot.scatter(x='x1', y='x2', ax=ax, color='red')"
   ]
  },
  {
   "cell_type": "code",
   "execution_count": 9,
   "metadata": {},
   "outputs": [
    {
     "data": {
      "image/png": "[encoded data removed]",
      "text/plain": [
       "<matplotlib.figure.Figure at 0x116e0b9e8>"
      ]
     },
     "metadata": {},
     "output_type": "display_data"
    }
   ],
   "source": [
    "iz = np.arange(1,len(losses_a)+1)\n",
    "fig, ax1 = plt.subplots()\n",
    "ax2 = ax1.twinx()\n",
    "lss, = ax1.plot(iz, losses_a, 'r-', label = 'loss', linewidth=3)\n",
    "th0, = ax2.plot(iz, thetas_a[:,0], label='theta0')\n",
    "th1, = ax2.plot(iz, thetas_a[:,1], label='theta1')\n",
    "th2, = ax2.plot(iz, thetas_a[:,2], label='theta2')\n",
    "plt.legend(handles=[lss, th0, th1, th2])\n",
    "ax1.set_xlabel('Iterations')\n",
    "ax1.set_ylabel('Loss', color='r')\n",
    "ax2.set_ylabel('Thetas')\n",
    "ax2\n",
    "plt.show()"
   ]
  },
  {
   "cell_type": "code",
   "execution_count": 10,
   "metadata": {},
   "outputs": [
    {
     "name": "stdout",
     "output_type": "stream",
     "text": [
      "iters=10000 theta=[-52.74109217  52.92982273  52.69691453] error=0.003361039469518825 loss=0.030452051871472686\n",
      "iters=20000 theta=[-68.10040977  68.26496086  68.09888223] error=0.002173205351041188 loss=0.023256142901786184\n",
      "iters=30000 theta=[-79.01759142  79.17745526  79.03755803] error=0.0016644896054955345 loss=0.01965553148240559\n",
      "iters=40000 theta=[-87.70771189  87.87276307  87.73897393] error=0.00137040952812708 loss=0.017379900838977568\n",
      "iters=50000 theta=[-95.01838735  95.1948202   95.0551918 ] error=0.0011758957242939641 loss=0.015770870290852234\n",
      "iters=60000 theta=[-101.37921493  101.57119731  101.41805781] error=0.0010366393703263115 loss=0.014553192642742461\n",
      "iters=70000 theta=[-107.04156569  107.25200975  107.08020705] error=0.0009315199306059815 loss=0.013588320669379629\n",
      "iters=80000 theta=[-112.16638881  112.39737225  112.20335022] error=0.0008490730225995943 loss=0.012797892595060763\n",
      "iters=90000 theta=[-116.86340448  117.11642203  116.89769046] error=0.0007824983080599451 loss=0.012133833454258312\n",
      "iters=100000 theta=[-121.21097234  121.48709579  121.24190606] error=0.0007274911705015017 loss=0.011564811921148605\n",
      "iters=110000 theta=[-125.2671122   125.56709752  125.29423376] error=0.0006811873212607069 loss=0.011069428083478489\n",
      "iters=120000 theta=[-129.07604452  129.40040661  129.09904542] error=0.0006416037144878202 loss=0.01063250553202677\n",
      "iters=130000 theta=[-132.67228289  133.02134953  132.6909624 ] error=0.00060732223371039 loss=0.010242944195190468\n",
      "iters=140000 theta=[-136.0833065   136.45725847  136.09754179] error=0.0005773010263759997 loss=0.009892413111776998\n",
      "iters=150000 theta=[-139.33136783  139.73026941  139.34109305] error=0.0005507569791240006 loss=0.009574520902410406\n",
      "iters=160000 theta=[-142.43475235  142.85857494  142.43994361] error=0.0005270897930619665 loss=0.00928427067421687\n",
      "iters=170000 theta=[-145.40867865  145.85731947  145.40934321] error=0.0005058313883535566 loss=0.009017690977867296\n",
      "iters=180000 theta=[-148.26595614  148.73925306  148.26212429] error=0.00048661127387651984 loss=0.008771579416353415\n",
      "iters=190000 theta=[-151.01747462  151.51521816  151.00919371] error=0.00046913228380035505 loss=0.008543320446197558\n",
      "iters=200000 theta=[-153.67257509  154.19451821  153.65990501] error=0.0004531532253669582 loss=0.008330753292945522\n",
      "theta for dataset b=[-153.67257509  154.19451821  153.65990501]\n"
     ]
    }
   ],
   "source": [
    "Xb, Yb = load_data('data_b.txt')\n",
    "thetas_b, thetas_sample_b, errors_b, losses_b = logistic_regression(Xb, Yb)\n",
    "print(\"theta for dataset b={}\".format(thetas_b[-1]))"
   ]
  },
  {
   "cell_type": "code",
   "execution_count": 11,
   "metadata": {},
   "outputs": [
    {
     "data": {
      "image/png": "[encoded data removed]",
      "text/plain": [
       "<matplotlib.figure.Figure at 0x117044fd0>"
      ]
     },
     "metadata": {},
     "output_type": "display_data"
    }
   ],
   "source": [
    "fig, axes = plt.subplots(5, 4, sharex=True, sharey=True, figsize=(12, 9))\n",
    "axes = axes.ravel()\n",
    "\n",
    "for k, theta in enumerate(thetas_sample_b[:20]):\n",
    "    ax = axes[k]\n",
    "    xs = np.arange(0, 1, 0.1)\n",
    "    ys = (-theta[0] - theta[1] * xs) / theta[2]\n",
    "    ax.plot(xs, ys, lw=0.5)\n",
    "    dfb.query('label ==  1').plot.scatter(x='x1', y='x2', ax=ax, color='blue')\n",
    "    dfb.query('label == -1').plot.scatter(x='x1', y='x2', ax=ax, color='red')"
   ]
  },
  {
   "cell_type": "code",
   "execution_count": 12,
   "metadata": {},
   "outputs": [
    {
     "data": {
      "image/png": "[encoded data removed]",
      "text/plain": [
       "<matplotlib.figure.Figure at 0x11775acf8>"
      ]
     },
     "metadata": {},
     "output_type": "display_data"
    }
   ],
   "source": [
    "iz = np.arange(1,len(losses_b)+1)\n",
    "fig, ax1 = plt.subplots()\n",
    "ax2 = ax1.twinx()\n",
    "lss, = ax1.plot(iz, losses_b, 'r-', label = 'loss', linewidth=3)\n",
    "th0, = ax2.plot(iz, thetas_b[:,0], label='theta0')\n",
    "th1, = ax2.plot(iz, thetas_b[:,1], label='theta1')\n",
    "th2, = ax2.plot(iz, thetas_b[:,2], label='theta2')\n",
    "plt.legend(handles=[lss, th0, th1, th2])\n",
    "ax1.set_xlabel('Iterations')\n",
    "ax1.set_ylabel('Loss', color='r')\n",
    "ax2.set_ylabel('Thetas')\n",
    "ax2\n",
    "plt.show()"
   ]
  },
  {
   "cell_type": "markdown",
   "metadata": {},
   "source": [
    "Back in problem-set-1, Q1-Logisitic Regression.ipynb, sections 8 and 9, we discussed the decision boundary. We repeat here:\n",
    "\n",
    "Recall that\n",
    "\n",
    "$$\n",
    "P(y=1\\mid X=x;\\theta)=h_\\theta(x)=g(z)\n",
    "$$\n",
    "\n",
    "where $z=\\theta^Tx$ and $g(z)=\\frac1{1+e^{-z}}$ is the sigmoid function.\n",
    "\n",
    "One possible way to predict the value of $y$ is to do this:\n",
    "\n",
    "$$\n",
    "\\text{prediction}=\\begin{cases}\\text{predict }y=1&\\text{when }h_\\theta(x)>\\frac{1}{2}\\\\\\text{predict }y=-1&\\text{when }h_\\theta(x)<\\frac{1}{2}\\end{cases}\n",
    "$$"
   ]
  },
  {
   "cell_type": "markdown",
   "metadata": {},
   "source": [
    "Notice that $h_\\theta(x)\\equiv g(z)$ is greater than $\\frac12$ exactly when $\\theta^Tx\\equiv z>0$ and $h_\\theta(x)\\equiv g(z)$ is less than $\\frac12$ exactly when $\\theta^Tx\\equiv z<0$. So the decision boundary is\n",
    "\n",
    "$$\n",
    "0=\\theta^Tx=\\theta_0+\\theta_1x_1+\\theta_2x_2\\iff-\\theta_2x_2=\\theta_0+\\theta_1x_1\\iff x_2=\\frac{\\theta_0+\\theta_1x_1}{-\\theta_2}\n",
    "$$\n",
    "\n",
    "Now notice that any scalar multiple of $\\theta=[\\theta_0, \\theta_1, \\theta_2]$ gives us the same decision boundary:\n",
    "\n",
    "$$\n",
    "x_2=\\frac{c\\theta_0+c\\theta_1x_1}{-c\\theta_2}=\\frac{c(\\theta_0+\\theta_1x_1)}{-c\\theta_2}=\\frac{\\theta_0+\\theta_1x_1}{-\\theta_2}\\tag{LRTS.1}\n",
    "$$\n",
    "\n",
    "Hence we can make the weights arbitrarily large and still get the same decision boundary."
   ]
  },
  {
   "cell_type": "markdown",
   "metadata": {},
   "source": [
    "Define a dataset of size $m$ to be __linearly separable__ if for all $i=1,...,m$ there exists $\\theta$ such that\n",
    "\n",
    "$$\n",
    "y^{(i)}\\theta^Tx^{(i)}>0\n",
    "$$\n",
    "\n",
    "If such a $\\theta$ exists then $\\theta$ is said to produce a __separating hyperplane__.\n",
    "\n",
    "Notice that dataset B is linearly separable:"
   ]
  },
  {
   "cell_type": "code",
   "execution_count": 13,
   "metadata": {},
   "outputs": [
    {
     "data": {
      "text/plain": [
       "array([], dtype=float64)"
      ]
     },
     "execution_count": 13,
     "metadata": {},
     "output_type": "execute_result"
    }
   ],
   "source": [
    "margins_b = Yb * Xb.dot(thetas_b[-1])\n",
    "margins_b[margins_b<=0]"
   ]
  },
  {
   "cell_type": "markdown",
   "metadata": {},
   "source": [
    "But dataset A is not linearly separable:"
   ]
  },
  {
   "cell_type": "code",
   "execution_count": 14,
   "metadata": {},
   "outputs": [
    {
     "data": {
      "text/plain": [
       "array([-1.32917086, -0.68532323, -1.14214767, -0.15720415, -1.61444502,\n",
       "       -0.57104762, -2.03107549, -0.06787698])"
      ]
     },
     "execution_count": 14,
     "metadata": {},
     "output_type": "execute_result"
    }
   ],
   "source": [
    "margins_a = Ya * Xa.dot(thetas_a[-1])\n",
    "margins_a[margins_a<=0]"
   ]
  },
  {
   "cell_type": "markdown",
   "metadata": {},
   "source": [
    "Lemma 1 on p.3 of [this research paper](https://arxiv.org/pdf/1710.10345.pdf) shows that, for linearly separable datasets, gradient descent will produce an unbounded weight vector. This lemma essentially says this: for an appropriate loss function, gradient descent will find a vector of weights that gives a separating hyperplane for a linearly separable dataset. Then GD will scale this weight vector to infinity. LRTS.1 tells us that this scaling can indeed continue indefinitely.\n",
    "\n",
    "This explains why performing logistic regression on dataset B doesn't converge as quickly for dataset A: in order for GD to converge for a linearly separable dataset, the weight vector must become arbitrarily large.\n",
    "\n",
    "Lemma 1 from that paper is a bit abstract. We will present a similar but more concrete and intuitive proof here:\n",
    "\n",
    "__Proposition__ Given the logistic loss and a linearly separable dataset, logistic regression convergence produces a weight vector that is unbounded above and gives a separating hyperplane. That is\n",
    "\n",
    "$$\n",
    "\\lim_{t\\rightarrow\\infty}\\nabla J(\\theta_t)=0\\implies\\lim_{t\\rightarrow\\infty}\\lvert\\theta_t\\rvert=\\infty\\quad\\text{and}\\quad y^{(i)}\\theta_t^Tx^{(i)}>0\\quad\\forall i\\text{, for sufficiently large }t\n",
    "$$\n",
    "\n",
    "__Proof__ Our loss function is\n",
    "\n",
    "$$\n",
    "J(\\theta)=\\frac{1}{m}\\sum_{i=1}^{m}\\phi\\big(y^{(i)}\\theta^Tx^{(i)}\\big)=\\frac{1}{m}\\sum_{i=1}^{m}\\log\\big(1+e^{-y^{(i)}\\theta^Tx^{(i)}}\\big)\n",
    "$$\n",
    "\n",
    "From LLG.1 near the top of the page, we have\n",
    "\n",
    "$$\\begin{align*}\n",
    "\\nabla J(\\theta)=-\\frac{1}{m}\\sum_{i=1}^{m}g\\big(-y^{(i)}\\theta^Tx^{(i)}\\big)y^{(i)}x^{(i)}\n",
    "\\end{align*}$$\n",
    "\n",
    "Since the dataset is linearly separable, then there exists $\\theta_*$ such that $y^{(i)}\\theta_*^Tx^{(i)}>0$. Hence for all possible weights $\\theta$, we have\n",
    "\n",
    "$$\\begin{align*}\n",
    "\\theta_*^T\\nabla J(\\theta)=-\\frac{1}{m}\\sum_{i=1}^{m}g\\big(-y^{(i)}\\theta^Tx^{(i)}\\big)y^{(i)}\\theta_*^Tx^{(i)}<0\n",
    "\\end{align*}$$\n",
    "\n",
    "The inequality follows because $g=$ sigmoid is positive. Since this holds for all $\\theta$, then there are no finite critical points $\\theta$ such that $\\nabla J(\\theta)=0$. If there were such a $\\theta$, then we would have $\\theta_*^T\\nabla J(\\theta)=0$.\n",
    "\n",
    "But gradient descent on a smooth loss with an appropriate stepsize is always guaranteed to converge to a critical point: $\\nabla J(\\theta_t)\\rightarrow0$ as $t\\rightarrow\\infty$ (see, e.g. Lemma 10 in Appendix A.4 of [this research paper](https://arxiv.org/pdf/1710.10345.pdf), slightly adapted from Ganti (2015), Theorem 2). That is\n",
    "\n",
    "$$\n",
    "\\lim_{t\\rightarrow\\infty}-\\frac{1}{m}\\sum_{i=1}^{m}g\\big(-y^{(i)}\\theta_t^Tx^{(i)}\\big)y^{(i)}x^{(i)}=\\lim_{t\\rightarrow\\infty}\\nabla J(\\theta_t)=0\n",
    "$$\n",
    "\n",
    "Since the dataset is fixed, we have\n",
    "\n",
    "$$\n",
    "\\lim_{t\\rightarrow\\infty}\\sum_{i=1}^{m}g\\big(-y^{(i)}\\theta_t^Tx^{(i)}\\big)=0\n",
    "$$\n",
    "\n",
    "Since $g$ is positive, for all $i=1,...,m$, we have\n",
    "\n",
    "$$\n",
    "\\lim_{t\\rightarrow\\infty}g\\big(-y^{(i)}\\theta_t^Tx^{(i)}\\big)=0\n",
    "$$\n",
    "\n",
    "But $g(-z)=\\frac{1}{1+e^{z}}$ goes to zero if and only if $z\\rightarrow\\infty$. Hence, for all $i=1,...,m$, we have\n",
    "\n",
    "$$\n",
    "\\lim_{t\\rightarrow\\infty}y^{(i)}\\theta_t^Tx^{(i)}=\\infty>0\n",
    "$$\n",
    "\n",
    "Since the dataset is fixed, this implies that\n",
    "\n",
    "$$\n",
    "\\lim_{t\\rightarrow\\infty}\\lvert\\theta_t\\rvert=\\infty\n",
    "$$\n",
    "\n",
    "$\\blacksquare$\n",
    "\n",
    "We can also present a very intuitive but informal argument for this as well: we want to minimize the logistic loss $\\frac{1}{m}\\sum_{i=1}^{m}\\log\\big(1+e^{-y^{(i)}\\theta^Tx^{(i)}}\\big)$. To minimize a single observation $\\log\\big(1+e^{-y^{(i)}\\theta^Tx^{(i)}}\\big)$, we want to minimize $e^{-y^{(i)}\\theta^Tx^{(i)}}$ and hence minimize $-y^{(i)}\\theta^Tx^{(i)}$. Hence we want to maximize $y^{(i)}\\theta^Tx^{(i)}$ (and make it positive) and hence we want to maximize $\\lvert\\theta\\rvert$."
   ]
  },
  {
   "cell_type": "markdown",
   "metadata": {},
   "source": [
    "And here is another intuitive interpretation: Logistic Regression takes a long time to converge on dataset B because that dataset is perfectly linearly separable (i.e. has a separating hyperplane). After discovering this separating hyperplane, the algorithm is just trying to increase the scale of $\\theta$ so as to increase $\\lvert y\\theta^Tx\\rvert$. This produces a higher probability and hence higher likelihood. But the theorectical maximum of LLG.0 is $1$ which only occurs when $\\theta=\\infty$.\n",
    "\n",
    "This doesn't happen to A because it's not linearly separable."
   ]
  },
  {
   "cell_type": "markdown",
   "metadata": {},
   "source": [
    "# (c)"
   ]
  },
  {
   "cell_type": "code",
   "execution_count": 15,
   "metadata": {},
   "outputs": [
    {
     "name": "stdout",
     "output_type": "stream",
     "text": [
      "Converged in 12 iterations\n",
      "theta for dataset b=[-1.24730568  1.41599194  1.00897731]\n"
     ]
    },
    {
     "data": {
      "text/plain": [
       "array([-0.21423847, -0.13424357, -0.07327046, -0.16984596, -0.01483175])"
      ]
     },
     "execution_count": 15,
     "metadata": {},
     "output_type": "execute_result"
    }
   ],
   "source": [
    "# Here we scale the learning rate geometrically (divide by iterations squared). While regression\n",
    "# does converge, we get a suboptimal weight vector that doesn't give a separating hyperplane\n",
    "# (5 boundary errors). We know such a hyperplane exists for dataset B.\n",
    "\n",
    "thetas_b_slrg, thetas_sample_b_slrg, errors_b_slrg, losses_b_slrg = logistic_regression(Xb, Yb, scale_lr_geom=True)\n",
    "print(\"theta for dataset b={}\".format(thetas_b_slrg[-1]))\n",
    "margins_b_slrg = Yb * Xb.dot(thetas_b_slrg[-1])\n",
    "margins_b_slrg[margins_b_slrg<=0]"
   ]
  },
  {
   "cell_type": "code",
   "execution_count": 16,
   "metadata": {},
   "outputs": [
    {
     "name": "stdout",
     "output_type": "stream",
     "text": [
      "iters=10000 theta=[-23.00670072  23.43931131  22.84069792] error=6.421325194941399e-07 loss=0.06506152526839235\n",
      "iters=20000 theta=[-23.00707326  23.43967538  22.84107224] error=2.9007585200545914e-11 loss=0.06506061346710618\n",
      "Converged in 29158 iterations\n",
      "theta for dataset b=[-23.00707328  23.4396754   22.84107226]\n"
     ]
    },
    {
     "data": {
      "text/plain": [
       "array([], dtype=float64)"
      ]
     },
     "execution_count": 16,
     "metadata": {},
     "output_type": "execute_result"
    }
   ],
   "source": [
    "# Here we scale the learning rate proportionately. We get much better convergence and a separating hyperplane.\n",
    "\n",
    "thetas_b_slrp, thetas_sample_b_slrp, errors_b_slrp, losses_b_slrp = logistic_regression(Xb, Yb, scale_lr_prop=.999)\n",
    "print(\"theta for dataset b={}\".format(thetas_b_slrp[-1]))\n",
    "margins_b_slrp = Yb * Xb.dot(thetas_b_slrp[-1])\n",
    "margins_b_slrp[margins_b_slrp<=0]"
   ]
  },
  {
   "cell_type": "code",
   "execution_count": 17,
   "metadata": {},
   "outputs": [
    {
     "name": "stdout",
     "output_type": "stream",
     "text": [
      "iters=10000 theta=[-28.20918668  28.54252653  28.07022248] error=3.551845066615569e-05 loss=0.07845835792584399\n",
      "iters=20000 theta=[-28.24568473  28.57848989  28.10689664] error=1.3001287605093338e-07 loss=0.07845824559442752\n",
      "iters=30000 theta=[-28.24581849  28.5786217   28.10703105] error=4.770526783707241e-10 loss=0.07845824559291995\n",
      "iters=40000 theta=[-28.24581898  28.57862218  28.10703154] error=1.7497069782835412e-12 loss=0.07845824559291993\n",
      "iters=50000 theta=[-28.24581898  28.57862218  28.10703154] error=6.153480596427404e-15 loss=0.07845824559291996\n",
      "Converged in 51264 iterations\n",
      "theta for dataset b=[-28.24581898  28.57862218  28.10703154]\n"
     ]
    },
    {
     "data": {
      "text/plain": [
       "array([], dtype=float64)"
      ]
     },
     "execution_count": 17,
     "metadata": {},
     "output_type": "execute_result"
    }
   ],
   "source": [
    "# Here we regress with regularization. We get convergence and a separating hyperplane. Notice that\n",
    "# the loss is substantially higher for regularized training. I guess this just means we're not overfitting?\n",
    "\n",
    "thetas_b_reg, thetas_sample_b_reg, errors_b_reg, losses_b_reg = logistic_regression(Xb, Yb, regularization=.00001)\n",
    "print(\"theta for dataset b={}\".format(thetas_b_reg[-1]))\n",
    "margins_b_reg = Yb * Xb.dot(thetas_b_reg[-1])\n",
    "margins_b_reg[margins_b_reg<=0]"
   ]
  },
  {
   "cell_type": "code",
   "execution_count": 18,
   "metadata": {},
   "outputs": [
    {
     "name": "stdout",
     "output_type": "stream",
     "text": [
      "iters=10000 theta=[-17.83139822  18.37388125  16.91953862] error=9.106047725064535e-10 loss=0.1707852090727224\n",
      "Converged in 17660 iterations\n",
      "theta for dataset a=[-17.83139854  18.37388157  16.91953893]\n"
     ]
    },
    {
     "data": {
      "text/plain": [
       "array([-1.22217909, -0.5266626 , -0.91255236, -0.16407398, -1.34437157,\n",
       "       -0.51349243, -1.79935563, -0.14121857])"
      ]
     },
     "execution_count": 18,
     "metadata": {},
     "output_type": "execute_result"
    }
   ],
   "source": [
    "# Here we check regularization on dataset A. Note that the number and size of\n",
    "# boundary errors are similar to those when we don't use regularization.\n",
    "\n",
    "thetas_a_reg, thetas_sample_a_reg, errors_a_reg, losses_a_reg = logistic_regression(Xa, Ya, regularization=.00001)\n",
    "print(\"theta for dataset a={}\".format(thetas_a_reg[-1]))\n",
    "margins_a_reg = Ya * Xa.dot(thetas_a_reg[-1])\n",
    "margins_a_reg[margins_a_reg<=0]"
   ]
  },
  {
   "cell_type": "code",
   "execution_count": 19,
   "metadata": {},
   "outputs": [
    {
     "name": "stdout",
     "output_type": "stream",
     "text": [
      "mean=[ 1.          0.512781    0.50270735]  std=[ 0.          0.30157938  0.28682305]\n",
      "Xb=(100, 3)  Xbn=(100, 3)\n",
      "iters=10000 theta=[-32.62637321  32.61395779  32.66355695] error=0.00018828077750764573 loss=0.14109409428170794\n",
      "iters=20000 theta=[-32.92259581  32.90827493  32.96125001] error=5.442188411244677e-06 loss=0.14108914375284395\n",
      "iters=30000 theta=[-32.93125715  32.91688107  32.96995456] error=1.6096658310203008e-07 loss=0.14108913955082192\n",
      "iters=40000 theta=[-32.93151342  32.9171357   32.9702121 ] error=4.76419108717556e-09 loss=0.1410891395471441\n",
      "iters=50000 theta=[-32.931521    32.91714324  32.97021973] error=1.4101057938278087e-10 loss=0.14108913954714095\n",
      "iters=60000 theta=[-32.93152123  32.91714346  32.97021995] error=4.172108249057426e-12 loss=0.1410891395471409\n",
      "iters=70000 theta=[-32.93152124  32.91714347  32.97021996] error=1.230696119285481e-13 loss=0.1410891395471409\n",
      "Converged in 78491 iterations\n",
      "theta for dataset b=[-32.93152124  32.91714347  32.97021996]\n"
     ]
    },
    {
     "data": {
      "text/plain": [
       "array([], dtype=float64)"
      ]
     },
     "execution_count": 19,
     "metadata": {},
     "output_type": "execute_result"
    }
   ],
   "source": [
    "# Gaussian noise\n",
    "\n",
    "mean, std = np.mean(Xb, axis=0), np.std(Xb, axis=0)\n",
    "print(\"mean={}  std={}\".format(mean, std))\n",
    "Xnoise0 = np.random.normal(0, .04, [100,1])\n",
    "Xnoise1 = np.random.normal(0, .01, [100,1])\n",
    "Xnoise2 = np.random.normal(0, .01, [100,1])\n",
    "Xnoise = np.hstack((Xnoise0, Xnoise1, Xnoise2))\n",
    "Xbn = Xb + Xnoise\n",
    "print(\"Xb={}  Xbn={}\".format(Xb.shape, Xbn.shape))\n",
    "\n",
    "Ynoise = np.random.normal(0, .6, (100,))\n",
    "Ybn = Yb + Ynoise\n",
    "\n",
    "thetas_b_gn, thetas_sample_b_gn, errors_b_gn, losses_b_gn = logistic_regression(Xbn, Ybn)\n",
    "print(\"theta for dataset b={}\".format(thetas_b_gn[-1]))\n",
    "margins_b_gn = Yb * Xb.dot(thetas_b_gn[-1])\n",
    "margins_b_gn[margins_b_gn<=0]"
   ]
  },
  {
   "cell_type": "markdown",
   "metadata": {},
   "source": [
    "i. Using a different constant learning rate.\n",
    "\n",
    "**Answer:** No, $\\theta$ still needs to go to infinity to make $\\nabla J(\\theta)\\rightarrow0$.\n",
    "\n",
    "ii. Decreasing the learning rate over time (e.g. scaling the initial learning rate by $1/t^2$, where $t$ is the number of gradient descent iterations thus far).\n",
    "\n",
    "**Answer:** Mixed results, please see the two sections above where we scale the learning rate. Scaling geometrically, we get extremely fast convergence but a suboptimal decision boundary (5 boundary errors). So I don't think this is a good option. Scaling proportionately, we get much better convergence (than without scaling) and a separating hyperplane. So this is a good option.\n",
    "\n",
    "I guess it's intuitive why scaling the learning rate gives faster convergence: the error term $E_{sc}$ is\n",
    "\n",
    "$$\n",
    "E_{sc}\\equiv\\lvert\\theta_{t+1}-\\theta_t\\rvert=\\lvert\\theta_t-\\alpha_{t+1}\\nabla J(\\theta_t)-\\theta_t\\rvert=\\lvert-\\alpha_{t+1}\\nabla J(\\theta_t)\\rvert=\\alpha_{t+1}\\lvert\\nabla J(\\theta_t)\\rvert\n",
    "$$\n",
    "\n",
    "Similarly the error term without scaling is\n",
    "\n",
    "$$\n",
    "E_{wosc}\\equiv\\lvert\\theta_{t+1}'-\\theta_t'\\rvert=\\alpha\\lvert\\nabla J(\\theta_t')\\rvert\n",
    "$$\n",
    "\n",
    "Let's assume that $\\lvert\\nabla J(\\theta_t')\\rvert\\approx\\lvert\\nabla J(\\theta_t)\\rvert$ for all $t=1,2,...$. Or perhaps it's more appropriate to assume that $\\lvert\\nabla J(\\theta_t)\\rvert=O\\big(\\lvert\\nabla J(\\theta_t')\\rvert\\big)$ as $t\\rightarrow0$? Then since $\\alpha_t\\rightarrow0$ quickly, we see that $E_{sc}\\rightarrow0$ much faster than $E_{wosc}\\rightarrow0$.\n",
    "\n",
    "iii. Adding a regularization term $\\lvert\\theta\\rvert^2_2$ to the loss function.\n",
    "\n",
    "**Answer:** Yes, please see the section above where we add regularization and get convergence and a separating hyperplane. It is intuitive why this works: when we add the magnitude of $\\theta$ to the objective function, then gradient descent will try to minimize $\\lvert\\theta\\rvert$ in balance with minimizing the original objective.\n",
    "\n",
    "Notice that the loss is substantially higher for regularized training. I guess this just means we're not overfitting?\n",
    "\n",
    "iv. Linear scaling of the input features.\n",
    "\n",
    "**Answer:** No, scaling input features is irrelevant to $\\theta$ getting infinitely large.\n",
    "\n",
    "v. Adding zero-mean Gaussian noise to the training data or labels\n",
    "\n",
    "**Answer:** Maybe, please see the section above where we add Gaussian noise. Playing around with the standard deviation parameters produces various but mostly consistent results. The parameters in that section (.04, .01, .01, .6) produce few to no boundary errors (i.e. a separating hyperplane or close to it) and much better convergence than without Gaussian noise."
   ]
  },
  {
   "cell_type": "markdown",
   "metadata": {},
   "source": [
    "# (d)"
   ]
  },
  {
   "cell_type": "markdown",
   "metadata": {},
   "source": [
    "Dataset B won't cause a problem for SVM because in SVM, it tries to maximize the geometric margin, which won't be affected by scaling $\\left|\\left|\\theta\\right|\\right|$."
   ]
  },
  {
   "cell_type": "markdown",
   "metadata": {
    "collapsed": true
   },
   "source": [
    "**More details** in response to [Issue 3](https://github.com/zyxue/stanford-cs229/issues/3)."
   ]
  },
  {
   "cell_type": "markdown",
   "metadata": {},
   "source": [
    "Comparing logistic regression with SVM (with a linear kernel), both look for a hyperplane, but with different goals in mind:\n",
    "\n",
    "* LR searches for a hyperplane that maximizes the likelihood, while\n",
    "* SVM looks for a hyperplane that maximizes the margin."
   ]
  },
  {
   "cell_type": "markdown",
   "metadata": {},
   "source": [
    "In standard logistic regression, the goal is the maximize\n",
    "\n",
    "\\begin{align*}\n",
    "\\max_{\\theta}L(\\theta) \n",
    "&= \\max_{\\theta} \\prod_{i=1}^{m} (h_{\\theta}(x^{(i)}))^{y{(i)}} (1 - h_{\\theta}(x^{(i)}))^{1 - y{(i)}} \\\\\n",
    "&= \\max_{\\theta} \\prod_{i=1}^{m} (\\frac{1}{1 + e^{-\\theta^T x}})^{y{(i)}} (1 - \\frac{1}{1 + e^{-\\theta^T x}})^{1 - y{(i)}} \\\\\n",
    "\\end{align*}\n"
   ]
  },
  {
   "cell_type": "markdown",
   "metadata": {},
   "source": [
    "where $h_{\\theta}$ is the sigmoid function, and $y \\in \\{0, 1\\}$."
   ]
  },
  {
   "cell_type": "markdown",
   "metadata": {},
   "source": [
    "In the Ng's [SVM note](http://cs229.stanford.edu/notes/cs229-notes3.pdf), it introduces two concepts about margin, and data are labeled differently, $y \\in \\{-1, 1\\}$. Also, it replaces $\\left|\\left|\\theta \\right|\\right|$ with $w$ and $b$."
   ]
  },
  {
   "cell_type": "markdown",
   "metadata": {},
   "source": [
    "**Functional margin**, which is affected by scaling $w$ and $b$.\n",
    "\n",
    "\\begin{align*}\n",
    "\\hat \\gamma &= \\min_{i = 1,\\cdots,m} \\hat \\gamma^{(i)} \\\\\n",
    "&= \\min_{i = 1,\\cdots,m} y^{(i)}(w^Tx^{(i)} + b)\n",
    "\\end{align*}"
   ]
  },
  {
   "cell_type": "markdown",
   "metadata": {},
   "source": [
    "**Geometric margin**, which won't be affected by scaling $w$ and $b$\n",
    "\n",
    "\\begin{align*}\n",
    "\\gamma &= \\min_{i = 1,\\cdots,m} \\gamma^{(i)} \\\\\n",
    "&= \\min_{i = 1,\\cdots,m} y^{(i)}\\bigg(\\big(\\frac{w}{\\left|\\left|w\\right|\\right|})^T x^{(i)} + \\frac{b}{\\left|\\left|w\\right|\\right|} \\bigg)\n",
    "\\end{align*}"
   ]
  },
  {
   "cell_type": "markdown",
   "metadata": {},
   "source": [
    "So in SVM, the final goal is to maximize geometric margin,\n",
    "\n",
    "\\begin{align*}\n",
    "\\max_{w, b} &\\; \\gamma \\\\\n",
    "\\textrm{s.t.} &\\; y^{(i)}(w^T x^{(i)} + b) \\ge \\gamma, i=1,\\cdots,m \\\\\n",
    "&\\; \\left|\\left|w\\right|\\right| = 1\n",
    "\\end{align*}"
   ]
  },
  {
   "cell_type": "markdown",
   "metadata": {},
   "source": [
    "instead of functional margin. As seen, the two are related by $\\left|\\left|w\\right|\\right|$. Hence, the above can be   equivalently written as"
   ]
  },
  {
   "cell_type": "markdown",
   "metadata": {},
   "source": [
    "\\begin{align*}\n",
    "\\max_{w, b} &\\; \\frac{\\hat \\gamma}{\\left|\\left| w \\right|\\right|} \\\\\n",
    "\\textrm{s.t.} &\\; y^{(i)}(w^T x^{(i)} + b) \\ge \\hat \\gamma, i=1,\\cdots,m \\\\\n",
    "&\\; \\hat \\gamma = 1\n",
    "\\end{align*}"
   ]
  },
  {
   "cell_type": "markdown",
   "metadata": {},
   "source": [
    "Replacing $\\hat \\gamma$ with $1$,\n",
    "\n",
    "\\begin{align*}\n",
    "\\max_{w, b} &\\; \\frac{1}{\\left|\\left| w \\right|\\right|} \\\\\n",
    "\\textrm{s.t.} &\\; y^{(i)}(w^T x^{(i)} + b) \\ge \\hat \\gamma, i=1,\\cdots,m \\\\\n",
    "\\end{align*}"
   ]
  },
  {
   "cell_type": "markdown",
   "metadata": {},
   "source": [
    "Maximizing $\\frac{1}{\\left|\\left| w \\right|\\right|}$ is equivalent to minimizing $\\frac{1}{2}\\left|\\left| w \\right|\\right|^2$. The $\\frac{1}{2}$ and taking square are probably just for mathmatical convenience when taking derivatives during optimization. Hence, we end up with the exact optimization problem as shown in the notes,"
   ]
  },
  {
   "cell_type": "markdown",
   "metadata": {},
   "source": [
    "Replacing $\\hat \\gamma$ with $1$,\n",
    "\n",
    "\\begin{align*}\n",
    "\\min_{w, b} &\\; \\frac{1}{2} \\left|\\left| w \\right|\\right|^2 \\\\\n",
    "\\textrm{s.t.} &\\; y^{(i)}(w^T x^{(i)} + b) \\ge \\hat \\gamma, i=1,\\cdots,m \\\\\n",
    "\\end{align*}"
   ]
  },
  {
   "cell_type": "markdown",
   "metadata": {},
   "source": [
    "Inspecting the derivation, it started with \n",
    "\n",
    "**maximizing $\\gamma$ while fixing $\\left|\\left|w\\right|\\right|$**,\n",
    "\n",
    "which are then transformed into \n",
    "\n",
    "**minimizing $\\left|\\left|w\\right|\\right|$ while fixing $\\hat \\gamma$**.\n",
    "\n",
    "It is like the two sides of the same coin. (Note $\\gamma$ is equal to $\\hat \\gamma$ when $\\left|\\left|w\\right|\\right| = 1$)"
   ]
  },
  {
   "cell_type": "code",
   "execution_count": 20,
   "metadata": {},
   "outputs": [
    {
     "name": "stdout",
     "output_type": "stream",
     "text": [
      "theta for regularized B=[-28.246  28.579  28.107]\n",
      "[ 0.997  0.609  1.     1.     1.     0.699  1.     0.575  0.998  1.     0.998\n",
      "  1.     1.     0.995  0.999  1.     0.997  0.991  1.     1.     0.959  1.\n",
      "  0.977  1.     1.     1.     0.524  1.     1.     0.817  1.     0.769\n",
      "  0.999  1.     1.     1.     0.999  1.     1.     0.767  1.     1.     1.\n",
      "  0.993  1.     0.993  0.999  1.     1.     1.     1.     0.652  1.     0.975\n",
      "  0.979  1.     1.     0.983  1.     1.     1.     0.936  1.     1.     0.917\n",
      "  0.985  0.761  0.907  1.     0.989  1.     0.982  1.     0.99   0.982  1.\n",
      "  1.     1.     0.773  0.992  1.     1.     1.     0.998  1.     1.     1.\n",
      "  0.592  1.     1.     0.877  0.989  0.998  1.     0.989  1.     1.     0.671\n",
      "  1.     0.891]\n"
     ]
    },
    {
     "data": {
      "image/png": "[encoded data removed]",
      "text/plain": [
       "<matplotlib.figure.Figure at 0x117806630>"
      ]
     },
     "metadata": {},
     "output_type": "display_data"
    },
    {
     "name": "stdout",
     "output_type": "stream",
     "text": [
      "theta for unregularized B=[-153.673  154.195  153.66 ]\n"
     ]
    },
    {
     "data": {
      "image/png": "[encoded data removed]",
      "text/plain": [
       "<matplotlib.figure.Figure at 0x119457a90>"
      ]
     },
     "metadata": {},
     "output_type": "display_data"
    }
   ],
   "source": [
    "# This isn't part of the problem: I want to see the probabilities that our training produces,\n",
    "# both for regularized and unregularized\n",
    "\n",
    "#thetas_b, thetas_sample_b, errors_b, losses_b = logistic_regression(Xb, Yb)\n",
    "print(\"theta for regularized B={}\".format(thetas_b_reg[-1].round(3)))\n",
    "margins = Yb * Xb.dot(thetas_b_reg[-1])\n",
    "probs = sigmoid(margins)\n",
    "print(probs.round(3))\n",
    "plt.hist(x=probs, bins=[i/10 for i in range(11)])\n",
    "plt.show()\n",
    "print(\"theta for unregularized B={}\".format(thetas_b[-1].round(3)))\n",
    "margins = Yb * Xb.dot(thetas_b[-1])\n",
    "probs = sigmoid(margins)\n",
    "plt.hist(x=probs, bins=[i/10 for i in range(11)])\n",
    "plt.show()"
   ]
  },
  {
   "cell_type": "code",
   "execution_count": 21,
   "metadata": {},
   "outputs": [
    {
     "data": {
      "text/plain": [
       "array([ 1.   ,  0.929,  1.   ,  1.   ,  1.   ,  0.993,  1.   ,  0.729,\n",
       "        1.   ,  1.   ,  1.   ,  1.   ,  1.   ,  1.   ,  1.   ,  1.   ,\n",
       "        1.   ,  1.   ,  1.   ,  1.   ,  1.   ,  1.   ,  1.   ,  1.   ,\n",
       "        1.   ,  1.   ,  0.768,  1.   ,  1.   ,  1.   ,  1.   ,  0.996,\n",
       "        1.   ,  1.   ,  1.   ,  1.   ,  1.   ,  1.   ,  1.   ,  0.995,\n",
       "        1.   ,  1.   ,  1.   ,  1.   ,  1.   ,  1.   ,  1.   ,  1.   ,\n",
       "        1.   ,  1.   ,  1.   ,  0.978,  1.   ,  1.   ,  1.   ,  1.   ,\n",
       "        1.   ,  1.   ,  1.   ,  1.   ,  1.   ,  1.   ,  1.   ,  1.   ,\n",
       "        1.   ,  1.   ,  0.998,  1.   ,  1.   ,  1.   ,  1.   ,  1.   ,\n",
       "        1.   ,  1.   ,  1.   ,  1.   ,  1.   ,  1.   ,  0.998,  1.   ,\n",
       "        1.   ,  1.   ,  1.   ,  1.   ,  1.   ,  1.   ,  1.   ,  0.881,\n",
       "        1.   ,  1.   ,  1.   ,  1.   ,  1.   ,  1.   ,  1.   ,  1.   ,\n",
       "        1.   ,  0.988,  1.   ,  1.   ])"
      ]
     },
     "execution_count": 21,
     "metadata": {},
     "output_type": "execute_result"
    }
   ],
   "source": [
    "\n",
    "probs = sigmoid(margins)\n",
    "probs.round(3)"
   ]
  }
 ],
 "metadata": {
  "kernelspec": {
   "display_name": "Python 3",
   "language": "python",
   "name": "python3"
  },
  "language_info": {
   "codemirror_mode": {
    "name": "ipython",
    "version": 3
   },
   "file_extension": ".py",
   "mimetype": "text/x-python",
   "name": "python",
   "nbconvert_exporter": "python",
   "pygments_lexer": "ipython3",
   "version": "3.6.1"
  }
 },
 "nbformat": 4,
 "nbformat_minor": 1
}
