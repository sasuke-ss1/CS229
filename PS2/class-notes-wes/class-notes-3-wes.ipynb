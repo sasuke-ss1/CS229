{
 "cells": [
  {
   "cell_type": "markdown",
   "metadata": {},
   "source": [
    "From the cs229-notes3.pdf, p.4: \"Note that $w$ is orthogonal (at $90^{\\circ}$) to the separating hyperplane.\n",
    "(You should convince yourself that this must be the case.)\" We can do this with a couple of examples. First in $\\mathbb{R^2}$:"
   ]
  },
  {
   "cell_type": "markdown",
   "metadata": {},
   "source": [
    "![R2-normal-vector-to-plane](R2-normal-vector-to-plane.png)"
   ]
  },
  {
   "cell_type": "markdown",
   "metadata": {},
   "source": [
    "Notice that $w=\\begin{bmatrix}3\\\\1\\end{bmatrix}$ is our parameter vector and that it's orthogonal to our decision boundary $y=f(x)$. We have found two points $B$ and $C$ on the decision boundary. And from these two points, we have computed two directional or tangent vectors $u=B-C$ and $v=C-B$ for this $\\mathbb{R}^2$ \"plane\".\n",
    "\n",
    "Notice also that the intercept term $b=2$ is equivalent to $d\\cdot\\lvert w\\rvert$ where $d$ is the perpendicular distance from the origin to the linear separator $f(x)$. To see this, define $g(x)$ to be function of the line through which the vector $w$ passes. Then\n",
    "\n",
    "$$\n",
    "g(x)=\\frac{1}{3}x\n",
    "$$\n",
    "\n",
    "and the x-value where $w$ intersects the linear separator $f(x)$ satisfies\n",
    "\n",
    "$$\n",
    "\\frac{1}{3}x=g(x)=f(x)=-3x+2\n",
    "$$\n",
    "\n",
    "or\n",
    "\n",
    "$$\n",
    "\\frac{10}{3}x=3x+\\frac{1}{3}x=2\\implies x=\\frac{6}{10}\n",
    "$$\n",
    "\n",
    "Hence the y-value where $w$ intersects the linear separator $f(x)$ is $y=g(x)=\\frac{1}{3}\\frac{6}{10}=\\frac{2}{10}$. Hence the perpendicular distance $d$ from the origin to the linear separator $f(x)$ is\n",
    "\n",
    "$$\n",
    "d=\\sqrt{x^2+y^2}=\\sqrt{\\Big(\\frac{6}{10}\\Big)+\\Big(\\frac{2}{10}\\Big)}=\\sqrt{\\frac{40}{100}}=\\sqrt{\\frac{4}{10}}\n",
    "$$\n",
    "\n",
    "and\n",
    "\n",
    "$$\n",
    "d\\cdot\\lvert w\\rvert=\\sqrt{\\frac{4}{10}}\\sqrt{3^2+1^2}=\\sqrt{\\frac{4}{10}\\cdot10}=2=b\n",
    "$$\n",
    "\n",
    "We can do the same thing in $\\mathbb{R}^3$:"
   ]
  },
  {
   "cell_type": "markdown",
   "metadata": {},
   "source": [
    "![R3-normal-vector-to-plane-4](R3-normal-vector-to-plane-4.png)"
   ]
  },
  {
   "cell_type": "markdown",
   "metadata": {},
   "source": [
    "![R3-normal-vector-to-plane-1](R3-normal-vector-to-plane-1.png)"
   ]
  },
  {
   "cell_type": "markdown",
   "metadata": {
    "collapsed": true
   },
   "source": [
    "![R3-normal-vector-to-plane-2](R3-normal-vector-to-plane-2.png)"
   ]
  },
  {
   "cell_type": "markdown",
   "metadata": {},
   "source": [
    "$$"
   ]
  },
  {
   "cell_type": "markdown",
   "metadata": {},
   "source": [
    "Next we look at max-min vs min-max. From p.9: \"How are the primal and the dual problems related? It can easily be shown that\n",
    "\n",
    "$$\\begin{align*}\n",
    "\\max_{\\alpha,\\beta:\\alpha_i\\geq0}\\min_{w}\\mathscr{L}(w,\\alpha,\\beta)\\leq\\min_{w}\\max_{\\alpha,\\beta:\\alpha_i\\geq0}\\mathscr{L}(w,\\alpha,\\beta)\n",
    "\\end{align*}$$\n",
    "\n",
    "(You should convince yourself of this; this follows from the “max min” of a\n",
    "function always being less than or equal to the “min max.”)\" This is true of any function $f(z,w)$ since\n",
    "\n",
    "$$\\begin{align*}\n",
    "\\min_{w}f(z_0,w)\\leq f(z_0,w_0)\\quad \\forall\\ z_0,w_0\n",
    "\\end{align*}$$\n",
    "\n",
    "$\\implies$\n",
    "\n",
    "$$\\begin{align*}\n",
    "\\max_{z}\\min_{w}f(z,w)\\leq\\max_{z} f(z,w_0)\\quad \\forall\\ w_0\n",
    "\\end{align*}$$\n",
    "\n",
    "$\\implies$\n",
    "\n",
    "$$\\begin{align*}\n",
    "\\max_{z}\\min_{w}f(z,w)\\leq\\min_{w}\\max_{z} f(z,w)\n",
    "\\end{align*}$$\n",
    "\n",
    "More generally, this can be shown: https://en.wikipedia.org/wiki/Max%E2%80%93min_inequality"
   ]
  },
  {
   "cell_type": "code",
   "execution_count": null,
   "metadata": {
    "collapsed": true
   },
   "outputs": [],
   "source": []
  }
 ],
 "metadata": {
  "kernelspec": {
   "display_name": "Python 3",
   "language": "python",
   "name": "python3"
  },
  "language_info": {
   "codemirror_mode": {
    "name": "ipython",
    "version": 3
   },
   "file_extension": ".py",
   "mimetype": "text/x-python",
   "name": "python",
   "nbconvert_exporter": "python",
   "pygments_lexer": "ipython3",
   "version": "3.6.1"
  }
 },
 "nbformat": 4,
 "nbformat_minor": 2
}
