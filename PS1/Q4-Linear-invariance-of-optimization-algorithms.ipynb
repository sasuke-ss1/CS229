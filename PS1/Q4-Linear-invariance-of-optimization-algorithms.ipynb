{
 "cells": [
  {
   "cell_type": "markdown",
   "metadata": {},
   "source": [
    "## Definitions\n",
    "\n",
    "Let $\\mathscr{C}^d(\\mathbb{R}^n,\\mathbb{R})$ denote the space of all functions from $\\mathbb{R}^n$ to $\\mathbb{R}$ that are continuously differentiable $d$ number of times.\n",
    "\n",
    "For any map $f\\in\\mathscr{C}^2(\\mathbb{R}^n,\\mathbb{R})$, let $H_f(x)$ denote the Hessian of $f$ evaluted at some point $x\\in\\mathbb{R}^n$.\n",
    "\n",
    "Let $\\mathbb{R}^{n\\times m}$ denote the space of all real matrices with $n$ rows and $m$ columns."
   ]
  },
  {
   "cell_type": "markdown",
   "metadata": {},
   "source": [
    "## Matrix Calculus and Algebra\n",
    "\n",
    "In this section, we'll prove a number of propositions that we'll use to solve the problem."
   ]
  },
  {
   "cell_type": "markdown",
   "metadata": {},
   "source": [
    "__Matr-Calc-1__ For a given $f\\in\\mathscr{C}^1(\\mathbb{R}^n,\\mathbb{R})$ and given $A\\in\\mathbb{R}^{n\\times n}$, define $g(x)\\equiv f(Ax)$ for all $x\\in\\mathbb{R}^n$. Then\n",
    "\n",
    "$$\\begin{align*} \n",
    "\\frac{\\partial g(x)}{\\partial x_i} &= \\sum_{k=1}^n\\frac{\\partial f(Ax)}{\\partial(Ax)_k}\\frac{\\partial(Ax)_k}{\\partial x_i}\n",
    "\\end{align*}$$\n",
    "\n",
    "__Proof__ The chain rule gives\n",
    "\n",
    "$$\\begin{align*} \n",
    "\\frac{\\partial g(x)}{\\partial x_i} &= \\nabla_{(Ax)}f(Ax)\\cdot\\frac{\\partial (Ax)}{\\partial x_i} \\\\\n",
    "    &= \\begin{bmatrix}\\frac{\\partial f(Ax)}{\\partial (Ax)_1}\\\\ \\vdots \\\\ \\frac{\\partial f(Ax)}{\\partial (Ax)_n}\\end{bmatrix}\\cdot\\begin{bmatrix}\\frac{\\partial(Ax)_1}{\\partial x_i}\\\\ \\vdots \\\\ \\frac{\\partial(Ax)_n}{\\partial x_i}\\end{bmatrix} \\\\\n",
    "    &= \\sum_{k=1}^n\\frac{\\partial f(Ax)}{\\partial(Ax)_k}\\frac{\\partial(Ax)_k}{\\partial x_i} \\\\\n",
    "\\end{align*}$$\n",
    "\n",
    "$\\blacksquare$"
   ]
  },
  {
   "cell_type": "markdown",
   "metadata": {},
   "source": [
    "__Matr-Calc-2__ Let $A\\in\\mathbb{R}^{n\\times n}$ and let $x\\in\\mathbb{R}^n$. Then for all $1\\leq k,i\\leq n$, we have\n",
    "\n",
    "$$\\begin{align*} \n",
    "\\frac{\\partial(Ax)_k}{\\partial x_i}=A_{ki}\n",
    "\\end{align*}$$\n",
    "\n",
    "__Proof__ Note that\n",
    "\n",
    "$$\\begin{align*} \n",
    "(Ax)_k &= \\Bigg(\\begin{bmatrix}A_{11}&\\dots&A_{1n}\\\\ \\vdots&\\ddots&\\vdots\\\\ A_{n1}&\\dots&A_{nn} \\end{bmatrix} \\begin{bmatrix}x_1\\\\\\vdots\\\\x_n\\end{bmatrix} \\Bigg)_k\\\\\n",
    "     &= \\Bigg(\\begin{bmatrix}\\sum_{j=1}^nA_{1j}x_j\\\\\\vdots\\\\\\sum_{j=1}^nA_{nj}x_j\\end{bmatrix} \\Bigg)_k\\\\\n",
    "     &= \\sum_{j=1}^nA_{kj}x_j\n",
    "\\end{align*}$$\n",
    "\n",
    "Hence\n",
    "\n",
    "$$\\begin{align*} \n",
    "\\frac{\\partial(Ax)_k}{\\partial x_i}=\\frac{\\partial\\sum_{j=1}^nA_{kj}x_j}{\\partial x_i}=A_{ki}\n",
    "\\end{align*}$$\n",
    "\n",
    "$\\blacksquare$"
   ]
  },
  {
   "cell_type": "markdown",
   "metadata": {},
   "source": [
    "__Matr-Calc-3__ For a given $f\\in\\mathscr{C}^2(\\mathbb{R}^n,\\mathbb{R})$ and given $A\\in\\mathbb{R}^{n\\times n}$, define $g(x)\\equiv f(Ax)$ for all $x\\in\\mathbb{R}^n$. Then\n",
    "\n",
    "$$\\begin{align*} \n",
    "\\frac{\\partial^2 g(x)}{\\partial x_i\\partial x_j} &= \\sum_{l=1}^n\\sum_{k=1}^n\\frac{\\partial^2 f(Ax)}{\\partial (Ax)_l\\partial (Ax)_k}A_{ki}A_{lj}\n",
    "\\end{align*}$$\n",
    "\n",
    "__Proof__ Note that $\\frac{\\partial f(z)}{\\partial z_k}$ is a map from $\\mathbb{R}^n$ to $\\mathbb{R}$. So\n",
    "\n",
    "$$\\begin{align*} \n",
    "\\frac{\\partial}{\\partial x_j}\\frac{\\partial f(Ax)}{\\partial (Ax)_k} &= \\nabla_{(Ax)}\\Big(\\frac{\\partial f(Ax)}{\\partial (Ax)_k}\\Big)\\cdot\\frac{\\partial (Ax)}{\\partial x_j} \\\\\n",
    "    &= \\begin{bmatrix}\\frac{\\partial^2 f(Ax)}{\\partial (Ax)_1\\partial (Ax)_k}\\\\ \\vdots \\\\ \\frac{\\partial^2 f(Ax)}{\\partial (Ax)_n\\partial (Ax)_k}\\end{bmatrix}\\cdot\\begin{bmatrix}\\frac{\\partial(Ax)_1}{\\partial x_j}\\\\ \\vdots \\\\ \\frac{\\partial(Ax)_n}{\\partial x_j}\\end{bmatrix} \\\\\n",
    "    &= \\begin{bmatrix}\\frac{\\partial^2 f(Ax)}{\\partial (Ax)_1\\partial (Ax)_k}\\\\ \\vdots \\\\ \\frac{\\partial^2 f(Ax)}{\\partial (Ax)_n\\partial (Ax)_k}\\end{bmatrix}\\cdot\\begin{bmatrix}A_{1j}\\\\ \\vdots \\\\ A_{nj}\\end{bmatrix} \\\\\n",
    "    &= \\sum_{l=1}^n\\frac{\\partial^2 f(Ax)}{\\partial (Ax)_l\\partial (Ax)_k}A_{lj}\\\\\n",
    "\\end{align*}$$\n",
    "\n",
    "Or we can simply define $h(x)\\equiv\\frac{\\partial f(Ax)}{\\partial x_k}$ and use Matr-Calc-1 and 2:\n",
    "\n",
    "$$\\begin{align*} \n",
    "\\frac{\\partial}{\\partial x_j}\\frac{\\partial f(Ax)}{\\partial (Ax)_k} = \\frac{\\partial h(x)}{\\partial x_j} &= \\sum_{l=1}^n\\frac{\\partial^2 f(Ax)}{\\partial(Ax)_l\\partial(Ax)_k}\\frac{\\partial(Ax)_l}{\\partial x_j} \\\\\n",
    "    &= \\sum_{l=1}^n\\frac{\\partial^2 f(Ax)}{\\partial (Ax)_l\\partial (Ax)_k}A_{lj}\n",
    "\\end{align*}$$\n",
    "\n",
    "Hence\n",
    "\n",
    "$$\\begin{align*} \n",
    "\\frac{\\partial^2 g(x)}{\\partial x_i\\partial x_j} &= \\frac{\\partial}{\\partial x_j}\\sum_{k=1}^n\\frac{\\partial f(Ax)}{\\partial (Ax)_k}\\frac{\\partial (Ax)_k}{\\partial x_i}\\tag{by Matr-Calc-1}\\\\\n",
    "    &= \\frac{\\partial}{\\partial x_j}\\sum_{k=1}^n\\frac{\\partial f(Ax)}{\\partial (Ax)_k}A_{ki}\\tag{by Matr-Calc-2}\\\\\n",
    "    &= \\sum_{k=1}^n\\frac{\\partial}{\\partial x_j}\\frac{\\partial f(Ax)}{\\partial (Ax)_k}A_{ki}\\\\\n",
    "    &= \\sum_{k=1}^n\\Big[\\sum_{l=1}^n\\frac{\\partial^2 f(Ax)}{\\partial (Ax)_l\\partial (Ax)_k}A_{lj}\\Big]A_{ki}\\\\\n",
    "    &= \\sum_{l=1}^n\\sum_{k=1}^n\\frac{\\partial^2 f(Ax)}{\\partial (Ax)_l\\partial (Ax)_k}A_{ki}A_{lj}\n",
    "\\end{align*}$$\n",
    "\n",
    "$\\blacksquare$"
   ]
  },
  {
   "cell_type": "markdown",
   "metadata": {},
   "source": [
    "__Matr-Alg-1__ For $F,A\\in\\mathbb{R}^{n\\times n}$ and $1\\leq j,h\\leq n$, we have\n",
    "\n",
    "$$\\begin{align*} \n",
    "A_{:h}^TFA_{:j}=\\sum_{l=1}^n\\sum_{k=1}^nF_{lk}A_{kj}A_{lh}\n",
    "\\end{align*}$$\n",
    "\n",
    "__Proof__\n",
    "\n",
    "$$\\begin{align*} \n",
    "\\sum_{l=1}^n\\sum_{k=1}^nF_{lk}A_{kj}A_{lh} &= \\sum_{l=1}^nA_{lh}\\sum_{k=1}^nF_{lk}A_{kj}\\\\\n",
    "    &= A_{1h}\\sum_{k=1}^nF_{1k}A_{kj}+\\dots+A_{nh}\\sum_{k=1}^nF_{nk}A_{kj}\\\\\n",
    "    &= \\begin{bmatrix}A_{1h}& \\dots&A_{nh}\\end{bmatrix}\\begin{bmatrix}\\sum_{k=1}^nF_{1k}A_{kj}\\\\ \\vdots\\\\\\sum_{k=1}^nF_{nk}A_{kj}\\end{bmatrix}\\\\\n",
    "    &= \\begin{bmatrix}A_{1h}& \\dots&A_{nh}\\end{bmatrix}\\begin{bmatrix}F_{11}&\\dots&F_{1n}\\\\\\vdots&\\ddots&\\vdots\\\\F_{n1}&\\dots&F_{nn}\\end{bmatrix}\\begin{bmatrix}A_{1j}\\\\ \\vdots\\\\A_{nj}\\end{bmatrix}\\\\\n",
    "    &= A_{:h}^TFA_{:j}\n",
    "\\end{align*}$$\n",
    "\n",
    "$\\blacksquare$"
   ]
  },
  {
   "cell_type": "markdown",
   "metadata": {},
   "source": [
    "__Matr-Alg-2__ For $F,A\\in\\mathbb{R}^{n\\times n}$ and $1\\leq j,h\\leq n$, we have\n",
    "\n",
    "\\begin{align*} \n",
    "(A^TFA)_{hj}=A_{:h}^TFA_{:j}\n",
    "\\end{align*}\n",
    "\n",
    "Equivalently\n",
    "\n",
    "$$\\begin{align*} \n",
    "A^TFA = \\begin{bmatrix}A_{:1}^TFA_{:1}&\\dots&A_{:1}^TFA_{:n}\\\\\\vdots&\\ddots&\\vdots\\\\A_{:n}^TFA_{:1}&\\dots&A_{:n}^TFA_{:n}\\end{bmatrix}\n",
    "\\end{align*}$$\n",
    "\n",
    "__Proof__\n",
    "\n",
    "$$\\begin{align*} \n",
    "A^TFA &= \\begin{bmatrix}A_{11}&\\dots&A_{n1}\\\\\\vdots&\\ddots&\\vdots\\\\A_{1n}&\\dots&A_{nn}\\end{bmatrix}\\begin{bmatrix}F_{11}&\\dots&F_{1n}\\\\\\vdots&\\ddots&\\vdots\\\\F_{n1}&\\dots&F_{nn}\\end{bmatrix}\\begin{bmatrix}A_{11}&\\dots&A_{1n}\\\\\\vdots&\\ddots&\\vdots\\\\A_{n1}&\\dots&A_{nn}\\end{bmatrix}\\\\ \n",
    "    &= \\begin{bmatrix}A_{11}&\\dots&A_{n1}\\\\\\vdots&\\ddots&\\vdots\\\\A_{1n}&\\dots&A_{nn}\\end{bmatrix}\\begin{bmatrix}\\sum_{k=1}^nF_{1k}A_{k1}&\\dots&\\sum_{k=1}^nF_{1k}A_{kn}\\\\\\vdots&\\ddots&\\vdots\\\\\\sum_{k=1}^nF_{nk}A_{k1}&\\dots&\\sum_{k=1}^nF_{nk}A_{kn}\\end{bmatrix}\\\\\n",
    "    &= \\begin{bmatrix}\\sum_{l=1}^nA_{l1}\\sum_{k=1}^nF_{lk}A_{k1}&\\dots&\\sum_{l=1}^nA_{l1}\\sum_{k=1}^nF_{lk}A_{kn}\\\\\\vdots&\\ddots&\\vdots\\\\\\sum_{l=1}^nA_{ln}\\sum_{k=1}^nF_{lk}A_{k1}&\\dots&\\sum_{l=1}^nA_{ln}\\sum_{k=1}^nF_{lk}A_{kn}\\end{bmatrix}\\\\\n",
    "    &= \\begin{bmatrix}\\sum_{l=1}^n\\sum_{k=1}^nF_{lk}A_{k1}A_{l1}&\\dots&\\sum_{l=1}^n\\sum_{k=1}^nF_{lk}A_{kn}A_{l1}\\\\\\vdots&\\ddots&\\vdots\\\\\\sum_{l=1}^n\\sum_{k=1}^nF_{lk}A_{k1}A_{ln}&\\dots&\\sum_{l=1}^n\\sum_{k=1}^nF_{lk}A_{kn}A_{ln}\\end{bmatrix}\\\\\n",
    "    &= \\begin{bmatrix}A_{:1}^TFA_{:1}&\\dots&A_{:1}^TFA_{:n}\\\\\\vdots&\\ddots&\\vdots\\\\A_{:n}^TFA_{:1}&\\dots&A_{:n}^TFA_{:n}\\end{bmatrix}\\tag{by Matr-Alg-1}\n",
    "\\end{align*}$$\n",
    "\n",
    "$\\blacksquare$"
   ]
  },
  {
   "cell_type": "markdown",
   "metadata": {},
   "source": [
    "__Matr-Calc-4__ For a given $f\\in\\mathscr{C}^1(\\mathbb{R}^n,\\mathbb{R})$ and given $A\\in\\mathbb{R}^{n\\times n}$, define $g(x)\\equiv f(Ax)$ for all $x\\in\\mathbb{R}^n$. For $x\\in\\mathbb{R}^n$, suppose $z$ satisfies $z=A^{-1}x$ ($\\iff x=Az$). Then\n",
    "\n",
    "$$\\begin{align*} \n",
    "\\frac{\\partial g(z)}{\\partial z_h} = A_{:h}^T\\nabla_{x}f(Az)\\quad\\text{and}\\quad\\nabla_{z}g(z) = A^T\\nabla_{x}f(Az)\n",
    "\\end{align*}$$\n",
    "\n",
    "Equivalently\n",
    "\n",
    "$$\\begin{align*} \n",
    "\\nabla_{z}f(Az) = A^T\\nabla_{x}f(x)\n",
    "\\end{align*}$$\n",
    "\n",
    "__Proof__\n",
    "\n",
    "$$\\begin{align*} \n",
    "\\frac{\\partial g(z)}{\\partial z_h} &= \\sum_{k=1}^n\\frac{\\partial f(Az)}{\\partial(Az)_k}\\frac{\\partial(Az)_k}{\\partial z_h}\\tag{by Matr-Calc-1} \\\\\n",
    "    &= \\sum_{k=1}^n\\frac{\\partial f(Az)}{\\partial(Az)_k}A_{kh}\\tag{by Matr-Calc-2} \\\\\n",
    "    &= \\sum_{k=1}^n\\frac{\\partial f(Az)}{\\partial x_k}A_{kh} \\\\\n",
    "    &= \\begin{bmatrix}\\frac{\\partial f(Az)}{\\partial x_1}\\\\\\vdots\\\\\\frac{\\partial f(Az)}{\\partial x_n}\\end{bmatrix}\\cdot\\begin{bmatrix}A_{1h}\\\\\\vdots\\\\A_{nh}\\end{bmatrix} \\\\\n",
    "    &= \\begin{bmatrix}A_{1h}&\\dots&A_{nh}\\end{bmatrix}\\begin{bmatrix}\\frac{\\partial f(Az)}{\\partial x_1}\\\\\\vdots\\\\\\frac{\\partial f(Az)}{\\partial x_n}\\end{bmatrix} \\\\\n",
    "    &= A_{:h}^T\\nabla_{x}f(Az)\n",
    "\\end{align*}$$\n",
    "\n",
    "Hence\n",
    "\n",
    "$$\\begin{align*} \n",
    "\\nabla_{z}g(z) &= \\begin{bmatrix}A_{:1}^T\\nabla_{x}f(Az)\\\\\\vdots\\\\A_{:n}^T\\nabla_{x}f(Az)\\end{bmatrix}\\\\\n",
    "    &= \\begin{bmatrix}A_{:1}^T\\\\\\vdots\\\\A_{:n}^T\\end{bmatrix}\\nabla_{x}f(Az)\\\\\n",
    "    &= \\begin{bmatrix}A_{11}&\\dots&A_{n1}\\\\\\vdots&\\ddots&\\vdots\\\\A_{1n}&\\dots&A_{nn}\\end{bmatrix}\\nabla_{x}f(Az)\\\\\n",
    "    &= A^T\\nabla_{x}f(Az)\n",
    "\\end{align*}$$\n",
    "\n",
    "$\\blacksquare$"
   ]
  },
  {
   "cell_type": "markdown",
   "metadata": {},
   "source": [
    "__Matr-Calc-5__ For a given $f\\in\\mathscr{C}^2(\\mathbb{R}^n,\\mathbb{R})$ and given $A\\in\\mathbb{R}^{n\\times n}$, define $g(x)\\equiv f(Ax)$ for all $x\\in\\mathbb{R}^n$. For $x\\in\\mathbb{R}^n$, suppose $z$ satisfies $z=A^{-1}x$ ($\\iff x=Az$). Then\n",
    "\n",
    "$$\\begin{align*} \n",
    "H_g(z) &= A^TH_f(Az)A\n",
    "\\end{align*}$$\n",
    "\n",
    "__Proof__\n",
    "\n",
    "$$\\begin{align*} \n",
    "\\big(H_g(z)\\big)_{hj}=\\big(H_g(z)\\big)_{jh}&=\\frac{\\partial^2 g(z)}{\\partial z_j\\partial z_h}\\\\\n",
    "    &= \\sum_{l=1}^n\\sum_{k=1}^n\\frac{\\partial^2 f(Az)}{\\partial (Az)_l\\partial (Az)_k}A_{kj}A_{lh}\\tag{by Matr-Calc-3} \\\\\n",
    "    &= \\sum_{l=1}^n\\sum_{k=1}^n\\frac{\\partial^2 f(Az)}{\\partial x_l\\partial x_k}A_{kj}A_{lh} \\\\\n",
    "    &= A_{:h}^TH_f(Az)A_{:j}\\tag{by Matr-Alg-1} \\\\\n",
    "    &= \\big(A^TH_f(Az)A\\big)_{hj}\\tag{by Matr-Alg-2}\n",
    "\\end{align*}$$\n",
    "\n",
    "$\\blacksquare$"
   ]
  },
  {
   "cell_type": "markdown",
   "metadata": {},
   "source": [
    "## Part (a)"
   ]
  },
  {
   "cell_type": "markdown",
   "metadata": {},
   "source": [
    "We are given some $f\\in\\mathscr{C}^2(\\mathbb{R}^n,\\mathbb{R})$. To find the roots of $f$, we apply Newton's update rule to $f(x)$:\n",
    "\n",
    "$$\\begin{align*} \n",
    "x^{(i+1)} &= x^{(i)}-[H_f(x^{(i)})]^{-1}\\nabla_xf(x^{(i)})\\tag{a.1}\n",
    "\\end{align*}$$\n",
    "\n",
    "This yields a collection of values $x^{(0)}=0,x^{(1)},x^{(2)},...$.\n",
    "\n",
    "For some $A\\in\\mathbb{R}^{n\\times n}$, Newton's update rule applied to $g(z)=f(Az)$ yields the values $z^{(0)}=0,z^{(1)},z^{(2)},...$. We want to show that $z^{(i)}=A^{-1}x^{(i)}$ for all $i$.\n",
    "\n",
    "We will do this by induction. We see that $z^{(0)}=0=A^{-1}x^{(0)}$ since $x^{(0)}=0$. Suppose that $z^{(i)}=A^{-1}x^{(i)}$ ($\\iff x^{(i)}=Az^{(i)}$) for some $i$. It suffices to show that $Az^{(i+1)}=x^{(i+1)}$.\n",
    "\n",
    "First let's find the Newton update rule for $g(z)=f(Az)$:\n",
    "\n",
    "$$\\begin{align*} \n",
    "z^{(i+1)} &= z^{(i)} - [H_g(z^{(i)})]^{-1}\\nabla_zg(z^{(i)})\\\\\n",
    "    &= z^{(i)} - [A^TH_f(Az^{(i)})A]^{-1}A^T\\nabla_{x}f(Az^{(i)})\\tag{by Matr-Calc-4 and Matr-Calc-5}\\\\\n",
    "    &= z^{(i)} - A^{-1}[H_f(Az^{(i)})]^{-1}A^{-T}A^T\\nabla_{x}f(Az^{(i)})\\\\\n",
    "    &= z^{(i)} - A^{-1}[H_f(Az^{(i)})]^{-1}\\nabla_{x}f(Az^{(i)})\\\\\n",
    "\\end{align*}$$\n",
    "\n",
    "Multiplying both sides by $A$, we get\n",
    "\n",
    "$$\\begin{align*} \n",
    "Az^{(i+1)} &= A\\big(z^{(i)} - A^{-1}[H_f(Az^{(i)})]^{-1}\\nabla_{x}f(Az^{(i)})\\big)\\\\\n",
    "    &= Az^{(i)} - AA^{-1}[H_f(Az^{(i)})]^{-1}\\nabla_{x}f(Az^{(i)})\\\\\n",
    "    &= Az^{(i)} - [H_f(Az^{(i)})]^{-1}\\nabla_{x}f(Az^{(i)})\\\\\n",
    "    &= x^{(i)} - [H_f(x^{(i)})]^{-1}\\nabla_{x}f(x^{(i)})\\tag{by induction hypothesis}\\\\\n",
    "    &= x^{(i+1)}\\tag{by a.1}\\\\\n",
    "\\end{align*}$$"
   ]
  },
  {
   "cell_type": "markdown",
   "metadata": {},
   "source": [
    "## Part (b)"
   ]
  },
  {
   "cell_type": "markdown",
   "metadata": {
    "collapsed": true
   },
   "source": [
    "We again apply an inductive argument. Invariance holds if and only if $x^{(i+1)}=Az^{(i+1)}$ given $x^{(i)}=Az^{(i)}$.\n",
    "\n",
    "The gradient descent update rule for $f(x)$ is\n",
    "\n",
    "$$\\begin{align*} \n",
    "x^{(i+1)} &= x^{(i)} - \\alpha\\nabla_xf(x^{(i)})\\tag{b.1}\n",
    "\\end{align*}$$\n",
    "\n",
    "And the gradient descent update rule for $g(z)$ is\n",
    "\n",
    "$$\\begin{align*} \n",
    "z^{(i+1)} &= z^{(i)} - \\alpha\\nabla_zg(z^{(i)})\\\\\n",
    "    &= z^{(i)} - \\alpha A^T\\nabla_{x}f(Az^{(i)})\\tag{by Matr-Calc-4}\n",
    "\\end{align*}$$\n",
    "\n",
    "Multiplying by $A$, we get\n",
    "\n",
    "$$\\begin{align*} \n",
    "Az^{(i+1)} &= Az^{(i)} - \\alpha AA^T\\nabla_{x}f(Az^{(i)})\\\\\n",
    "    &= x^{(i)} - \\alpha AA^T\\nabla_{x}f(x^{(i)})\\\\\n",
    "\\end{align*}$$\n",
    "\n",
    "Comparing this to b.1, we see that $x^{(i+1)}=Az^{(i+1)}$ if and only if $AA^T=I$. That is, $A$ must be orthogonal. Hence gradient descent is not invariant to linear reparameterizations unless $A$ is orthogonal."
   ]
  }
 ],
 "metadata": {
  "kernelspec": {
   "display_name": "Python 3",
   "language": "python",
   "name": "python3"
  },
  "language_info": {
   "codemirror_mode": {
    "name": "ipython",
    "version": 3
   },
   "file_extension": ".py",
   "mimetype": "text/x-python",
   "name": "python",
   "nbconvert_exporter": "python",
   "pygments_lexer": "ipython3",
   "version": "3.6.1"
  }
 },
 "nbformat": 4,
 "nbformat_minor": 2
}
